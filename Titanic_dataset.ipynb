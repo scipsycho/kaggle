{
 "cells": [
  {
   "cell_type": "code",
   "execution_count": 307,
   "metadata": {},
   "outputs": [],
   "source": [
    "import numpy as np\n",
    "import pandas as pd\n",
    "from matplotlib import pyplot as plt\n",
    "%matplotlib inline\n",
    "from sklearn.pipeline import Pipeline \n",
    "from sklearn.preprocessing import Imputer\n",
    "from sklearn.base import BaseEstimator,TransformerMixin\n",
    "from sklearn.preprocessing import StandardScaler\n",
    "from sklearn.pipeline import FeatureUnion\n",
    "from sklearn.linear_model import LinearRegression\n",
    "from sklearn.linear_model import LogisticRegression\n",
    "from sklearn.metrics import mean_squared_error\n",
    "from sklearn.metrics import mean_absolute_error\n",
    "from sklearn.ensemble import RandomForestClassifier\n",
    "from sklearn.model_selection import cross_val_score\n",
    "from sklearn.model_selection import GridSearchCV\n",
    "from sklearn.preprocessing import LabelBinarizer\n",
    "from sklearn.preprocessing import LabelEncoder\n",
    "from sklearn.externals import joblib"
   ]
  },
  {
   "cell_type": "code",
   "execution_count": 3,
   "metadata": {
    "collapsed": true
   },
   "outputs": [],
   "source": [
    "dataset=pd.read_csv('./train.csv')"
   ]
  },
  {
   "cell_type": "code",
   "execution_count": 4,
   "metadata": {},
   "outputs": [
    {
     "name": "stdout",
     "output_type": "stream",
     "text": [
      "<class 'pandas.core.frame.DataFrame'>\n",
      "RangeIndex: 891 entries, 0 to 890\n",
      "Data columns (total 12 columns):\n",
      "PassengerId    891 non-null int64\n",
      "Survived       891 non-null int64\n",
      "Pclass         891 non-null int64\n",
      "Name           891 non-null object\n",
      "Sex            891 non-null object\n",
      "Age            714 non-null float64\n",
      "SibSp          891 non-null int64\n",
      "Parch          891 non-null int64\n",
      "Ticket         891 non-null object\n",
      "Fare           891 non-null float64\n",
      "Cabin          204 non-null object\n",
      "Embarked       889 non-null object\n",
      "dtypes: float64(2), int64(5), object(5)\n",
      "memory usage: 83.6+ KB\n"
     ]
    }
   ],
   "source": [
    "dataset.info()"
   ]
  },
  {
   "cell_type": "code",
   "execution_count": 5,
   "metadata": {},
   "outputs": [
    {
     "data": {
      "text/html": [
       "<div>\n",
       "<style>\n",
       "    .dataframe thead tr:only-child th {\n",
       "        text-align: right;\n",
       "    }\n",
       "\n",
       "    .dataframe thead th {\n",
       "        text-align: left;\n",
       "    }\n",
       "\n",
       "    .dataframe tbody tr th {\n",
       "        vertical-align: top;\n",
       "    }\n",
       "</style>\n",
       "<table border=\"1\" class=\"dataframe\">\n",
       "  <thead>\n",
       "    <tr style=\"text-align: right;\">\n",
       "      <th></th>\n",
       "      <th>PassengerId</th>\n",
       "      <th>Survived</th>\n",
       "      <th>Pclass</th>\n",
       "      <th>Age</th>\n",
       "      <th>SibSp</th>\n",
       "      <th>Parch</th>\n",
       "      <th>Fare</th>\n",
       "    </tr>\n",
       "  </thead>\n",
       "  <tbody>\n",
       "    <tr>\n",
       "      <th>count</th>\n",
       "      <td>891.000000</td>\n",
       "      <td>891.000000</td>\n",
       "      <td>891.000000</td>\n",
       "      <td>714.000000</td>\n",
       "      <td>891.000000</td>\n",
       "      <td>891.000000</td>\n",
       "      <td>891.000000</td>\n",
       "    </tr>\n",
       "    <tr>\n",
       "      <th>mean</th>\n",
       "      <td>446.000000</td>\n",
       "      <td>0.383838</td>\n",
       "      <td>2.308642</td>\n",
       "      <td>29.699118</td>\n",
       "      <td>0.523008</td>\n",
       "      <td>0.381594</td>\n",
       "      <td>32.204208</td>\n",
       "    </tr>\n",
       "    <tr>\n",
       "      <th>std</th>\n",
       "      <td>257.353842</td>\n",
       "      <td>0.486592</td>\n",
       "      <td>0.836071</td>\n",
       "      <td>14.526497</td>\n",
       "      <td>1.102743</td>\n",
       "      <td>0.806057</td>\n",
       "      <td>49.693429</td>\n",
       "    </tr>\n",
       "    <tr>\n",
       "      <th>min</th>\n",
       "      <td>1.000000</td>\n",
       "      <td>0.000000</td>\n",
       "      <td>1.000000</td>\n",
       "      <td>0.420000</td>\n",
       "      <td>0.000000</td>\n",
       "      <td>0.000000</td>\n",
       "      <td>0.000000</td>\n",
       "    </tr>\n",
       "    <tr>\n",
       "      <th>25%</th>\n",
       "      <td>223.500000</td>\n",
       "      <td>0.000000</td>\n",
       "      <td>2.000000</td>\n",
       "      <td>20.125000</td>\n",
       "      <td>0.000000</td>\n",
       "      <td>0.000000</td>\n",
       "      <td>7.910400</td>\n",
       "    </tr>\n",
       "    <tr>\n",
       "      <th>50%</th>\n",
       "      <td>446.000000</td>\n",
       "      <td>0.000000</td>\n",
       "      <td>3.000000</td>\n",
       "      <td>28.000000</td>\n",
       "      <td>0.000000</td>\n",
       "      <td>0.000000</td>\n",
       "      <td>14.454200</td>\n",
       "    </tr>\n",
       "    <tr>\n",
       "      <th>75%</th>\n",
       "      <td>668.500000</td>\n",
       "      <td>1.000000</td>\n",
       "      <td>3.000000</td>\n",
       "      <td>38.000000</td>\n",
       "      <td>1.000000</td>\n",
       "      <td>0.000000</td>\n",
       "      <td>31.000000</td>\n",
       "    </tr>\n",
       "    <tr>\n",
       "      <th>max</th>\n",
       "      <td>891.000000</td>\n",
       "      <td>1.000000</td>\n",
       "      <td>3.000000</td>\n",
       "      <td>80.000000</td>\n",
       "      <td>8.000000</td>\n",
       "      <td>6.000000</td>\n",
       "      <td>512.329200</td>\n",
       "    </tr>\n",
       "  </tbody>\n",
       "</table>\n",
       "</div>"
      ],
      "text/plain": [
       "       PassengerId    Survived      Pclass         Age       SibSp  \\\n",
       "count   891.000000  891.000000  891.000000  714.000000  891.000000   \n",
       "mean    446.000000    0.383838    2.308642   29.699118    0.523008   \n",
       "std     257.353842    0.486592    0.836071   14.526497    1.102743   \n",
       "min       1.000000    0.000000    1.000000    0.420000    0.000000   \n",
       "25%     223.500000    0.000000    2.000000   20.125000    0.000000   \n",
       "50%     446.000000    0.000000    3.000000   28.000000    0.000000   \n",
       "75%     668.500000    1.000000    3.000000   38.000000    1.000000   \n",
       "max     891.000000    1.000000    3.000000   80.000000    8.000000   \n",
       "\n",
       "            Parch        Fare  \n",
       "count  891.000000  891.000000  \n",
       "mean     0.381594   32.204208  \n",
       "std      0.806057   49.693429  \n",
       "min      0.000000    0.000000  \n",
       "25%      0.000000    7.910400  \n",
       "50%      0.000000   14.454200  \n",
       "75%      0.000000   31.000000  \n",
       "max      6.000000  512.329200  "
      ]
     },
     "execution_count": 5,
     "metadata": {},
     "output_type": "execute_result"
    }
   ],
   "source": [
    "dataset.describe()"
   ]
  },
  {
   "cell_type": "code",
   "execution_count": 6,
   "metadata": {},
   "outputs": [
    {
     "data": {
      "text/plain": [
       "0    549\n",
       "1    342\n",
       "Name: Survived, dtype: int64"
      ]
     },
     "execution_count": 6,
     "metadata": {},
     "output_type": "execute_result"
    }
   ],
   "source": [
    "dataset[\"Survived\"].value_counts()"
   ]
  },
  {
   "cell_type": "code",
   "execution_count": 7,
   "metadata": {},
   "outputs": [
    {
     "data": {
      "text/plain": [
       "1601            7\n",
       "CA. 2343        7\n",
       "347082          7\n",
       "3101295         6\n",
       "CA 2144         6\n",
       "347088          6\n",
       "382652          5\n",
       "S.O.C. 14879    5\n",
       "W./C. 6608      4\n",
       "349909          4\n",
       "113781          4\n",
       "4133            4\n",
       "113760          4\n",
       "17421           4\n",
       "PC 17757        4\n",
       "LINE            4\n",
       "347077          4\n",
       "2666            4\n",
       "19950           4\n",
       "248727          3\n",
       "F.C.C. 13529    3\n",
       "110152          3\n",
       "C.A. 34651      3\n",
       "347742          3\n",
       "239853          3\n",
       "35273           3\n",
       "29106           3\n",
       "PC 17760        3\n",
       "345773          3\n",
       "110413          3\n",
       "               ..\n",
       "112053          1\n",
       "349218          1\n",
       "347076          1\n",
       "335097          1\n",
       "349243          1\n",
       "349256          1\n",
       "334912          1\n",
       "349241          1\n",
       "29011           1\n",
       "7553            1\n",
       "C 17369         1\n",
       "PC 17474        1\n",
       "248747          1\n",
       "312991          1\n",
       "C 7077          1\n",
       "28551           1\n",
       "8471            1\n",
       "113804          1\n",
       "A.5. 18509      1\n",
       "29108           1\n",
       "231945          1\n",
       "PC 17475        1\n",
       "350046          1\n",
       "A/5. 851        1\n",
       "13509           1\n",
       "W./C. 14263     1\n",
       "113788          1\n",
       "371060          1\n",
       "113509          1\n",
       "65303           1\n",
       "Name: Ticket, Length: 681, dtype: int64"
      ]
     },
     "execution_count": 7,
     "metadata": {},
     "output_type": "execute_result"
    }
   ],
   "source": [
    "dataset[\"Ticket\"].value_counts()"
   ]
  },
  {
   "cell_type": "code",
   "execution_count": 8,
   "metadata": {},
   "outputs": [
    {
     "data": {
      "text/plain": [
       "S    644\n",
       "C    168\n",
       "Q     77\n",
       "Name: Embarked, dtype: int64"
      ]
     },
     "execution_count": 8,
     "metadata": {},
     "output_type": "execute_result"
    }
   ],
   "source": [
    "dataset['Embarked'].value_counts()"
   ]
  },
  {
   "cell_type": "code",
   "execution_count": 9,
   "metadata": {},
   "outputs": [
    {
     "data": {
      "image/png": "[encoded data removed]",
      "text/plain": [
       "<matplotlib.figure.Figure at 0x10adbbf28>"
      ]
     },
     "metadata": {},
     "output_type": "display_data"
    }
   ],
   "source": [
    "#let's see the correlation between different attributes\n",
    "important_attribs=[\"Survived\",'Embarked','Sex','Age','Fare','Ticket','PassengerId']\n",
    "pd.plotting.scatter_matrix(dataset,figsize=(16,16))\n",
    "plt.show()"
   ]
  },
  {
   "cell_type": "code",
   "execution_count": 10,
   "metadata": {},
   "outputs": [
    {
     "data": {
      "image/png": "[encoded data removed]",
      "text/plain": [
       "<matplotlib.figure.Figure at 0x111edd710>"
      ]
     },
     "metadata": {},
     "output_type": "display_data"
    }
   ],
   "source": [
    "#as we can see there is no correlation between different values\n",
    "#let's see if age and fare have something that will help in using linear regression (if used!)\n",
    "plt.figure(0)\n",
    "plt.scatter(dataset[\"Age\"],dataset[\"Fare\"],\n",
    "            c=[i for i in map(lambda x: 'blue' if x==1 else 'red', dataset[\"Survived\"])],\n",
    "            alpha=0.5\n",
    "           )\n",
    "plt.xlabel('Age')\n",
    "plt.ylabel('Fare')\n",
    "plt.show()"
   ]
  },
  {
   "cell_type": "code",
   "execution_count": 11,
   "metadata": {
    "collapsed": true
   },
   "outputs": [],
   "source": [
    "#As you can see it is not worth it for the linear regression ;)"
   ]
  },
  {
   "cell_type": "code",
   "execution_count": 12,
   "metadata": {
    "collapsed": true
   },
   "outputs": [],
   "source": [
    "#let's study all the data attributes first"
   ]
  },
  {
   "cell_type": "code",
   "execution_count": 13,
   "metadata": {},
   "outputs": [
    {
     "name": "stdout",
     "output_type": "stream",
     "text": [
      "<class 'pandas.core.frame.DataFrame'>\n",
      "RangeIndex: 891 entries, 0 to 890\n",
      "Data columns (total 12 columns):\n",
      "PassengerId    891 non-null int64\n",
      "Survived       891 non-null int64\n",
      "Pclass         891 non-null int64\n",
      "Name           891 non-null object\n",
      "Sex            891 non-null object\n",
      "Age            714 non-null float64\n",
      "SibSp          891 non-null int64\n",
      "Parch          891 non-null int64\n",
      "Ticket         891 non-null object\n",
      "Fare           891 non-null float64\n",
      "Cabin          204 non-null object\n",
      "Embarked       889 non-null object\n",
      "dtypes: float64(2), int64(5), object(5)\n",
      "memory usage: 83.6+ KB\n"
     ]
    }
   ],
   "source": [
    "dataset.info()"
   ]
  },
  {
   "cell_type": "code",
   "execution_count": 14,
   "metadata": {},
   "outputs": [
    {
     "data": {
      "text/plain": [
       "0        1\n",
       "1        2\n",
       "2        3\n",
       "3        4\n",
       "4        5\n",
       "5        6\n",
       "6        7\n",
       "7        8\n",
       "8        9\n",
       "9       10\n",
       "10      11\n",
       "11      12\n",
       "12      13\n",
       "13      14\n",
       "14      15\n",
       "15      16\n",
       "16      17\n",
       "17      18\n",
       "18      19\n",
       "19      20\n",
       "20      21\n",
       "21      22\n",
       "22      23\n",
       "23      24\n",
       "24      25\n",
       "25      26\n",
       "26      27\n",
       "27      28\n",
       "28      29\n",
       "29      30\n",
       "      ... \n",
       "861    862\n",
       "862    863\n",
       "863    864\n",
       "864    865\n",
       "865    866\n",
       "866    867\n",
       "867    868\n",
       "868    869\n",
       "869    870\n",
       "870    871\n",
       "871    872\n",
       "872    873\n",
       "873    874\n",
       "874    875\n",
       "875    876\n",
       "876    877\n",
       "877    878\n",
       "878    879\n",
       "879    880\n",
       "880    881\n",
       "881    882\n",
       "882    883\n",
       "883    884\n",
       "884    885\n",
       "885    886\n",
       "886    887\n",
       "887    888\n",
       "888    889\n",
       "889    890\n",
       "890    891\n",
       "Name: PassengerId, Length: 891, dtype: int64"
      ]
     },
     "execution_count": 14,
     "metadata": {},
     "output_type": "execute_result"
    }
   ],
   "source": [
    "dataset[\"PassengerId\"]"
   ]
  },
  {
   "cell_type": "code",
   "execution_count": 15,
   "metadata": {},
   "outputs": [
    {
     "data": {
      "text/html": [
       "<div>\n",
       "<style>\n",
       "    .dataframe thead tr:only-child th {\n",
       "        text-align: right;\n",
       "    }\n",
       "\n",
       "    .dataframe thead th {\n",
       "        text-align: left;\n",
       "    }\n",
       "\n",
       "    .dataframe tbody tr th {\n",
       "        vertical-align: top;\n",
       "    }\n",
       "</style>\n",
       "<table border=\"1\" class=\"dataframe\">\n",
       "  <thead>\n",
       "    <tr style=\"text-align: right;\">\n",
       "      <th></th>\n",
       "      <th>PassengerId</th>\n",
       "      <th>Survived</th>\n",
       "      <th>Pclass</th>\n",
       "      <th>Age</th>\n",
       "      <th>SibSp</th>\n",
       "      <th>Parch</th>\n",
       "      <th>Fare</th>\n",
       "    </tr>\n",
       "  </thead>\n",
       "  <tbody>\n",
       "    <tr>\n",
       "      <th>count</th>\n",
       "      <td>891.000000</td>\n",
       "      <td>891.000000</td>\n",
       "      <td>891.000000</td>\n",
       "      <td>714.000000</td>\n",
       "      <td>891.000000</td>\n",
       "      <td>891.000000</td>\n",
       "      <td>891.000000</td>\n",
       "    </tr>\n",
       "    <tr>\n",
       "      <th>mean</th>\n",
       "      <td>446.000000</td>\n",
       "      <td>0.383838</td>\n",
       "      <td>2.308642</td>\n",
       "      <td>29.699118</td>\n",
       "      <td>0.523008</td>\n",
       "      <td>0.381594</td>\n",
       "      <td>32.204208</td>\n",
       "    </tr>\n",
       "    <tr>\n",
       "      <th>std</th>\n",
       "      <td>257.353842</td>\n",
       "      <td>0.486592</td>\n",
       "      <td>0.836071</td>\n",
       "      <td>14.526497</td>\n",
       "      <td>1.102743</td>\n",
       "      <td>0.806057</td>\n",
       "      <td>49.693429</td>\n",
       "    </tr>\n",
       "    <tr>\n",
       "      <th>min</th>\n",
       "      <td>1.000000</td>\n",
       "      <td>0.000000</td>\n",
       "      <td>1.000000</td>\n",
       "      <td>0.420000</td>\n",
       "      <td>0.000000</td>\n",
       "      <td>0.000000</td>\n",
       "      <td>0.000000</td>\n",
       "    </tr>\n",
       "    <tr>\n",
       "      <th>25%</th>\n",
       "      <td>223.500000</td>\n",
       "      <td>0.000000</td>\n",
       "      <td>2.000000</td>\n",
       "      <td>20.125000</td>\n",
       "      <td>0.000000</td>\n",
       "      <td>0.000000</td>\n",
       "      <td>7.910400</td>\n",
       "    </tr>\n",
       "    <tr>\n",
       "      <th>50%</th>\n",
       "      <td>446.000000</td>\n",
       "      <td>0.000000</td>\n",
       "      <td>3.000000</td>\n",
       "      <td>28.000000</td>\n",
       "      <td>0.000000</td>\n",
       "      <td>0.000000</td>\n",
       "      <td>14.454200</td>\n",
       "    </tr>\n",
       "    <tr>\n",
       "      <th>75%</th>\n",
       "      <td>668.500000</td>\n",
       "      <td>1.000000</td>\n",
       "      <td>3.000000</td>\n",
       "      <td>38.000000</td>\n",
       "      <td>1.000000</td>\n",
       "      <td>0.000000</td>\n",
       "      <td>31.000000</td>\n",
       "    </tr>\n",
       "    <tr>\n",
       "      <th>max</th>\n",
       "      <td>891.000000</td>\n",
       "      <td>1.000000</td>\n",
       "      <td>3.000000</td>\n",
       "      <td>80.000000</td>\n",
       "      <td>8.000000</td>\n",
       "      <td>6.000000</td>\n",
       "      <td>512.329200</td>\n",
       "    </tr>\n",
       "  </tbody>\n",
       "</table>\n",
       "</div>"
      ],
      "text/plain": [
       "       PassengerId    Survived      Pclass         Age       SibSp  \\\n",
       "count   891.000000  891.000000  891.000000  714.000000  891.000000   \n",
       "mean    446.000000    0.383838    2.308642   29.699118    0.523008   \n",
       "std     257.353842    0.486592    0.836071   14.526497    1.102743   \n",
       "min       1.000000    0.000000    1.000000    0.420000    0.000000   \n",
       "25%     223.500000    0.000000    2.000000   20.125000    0.000000   \n",
       "50%     446.000000    0.000000    3.000000   28.000000    0.000000   \n",
       "75%     668.500000    1.000000    3.000000   38.000000    1.000000   \n",
       "max     891.000000    1.000000    3.000000   80.000000    8.000000   \n",
       "\n",
       "            Parch        Fare  \n",
       "count  891.000000  891.000000  \n",
       "mean     0.381594   32.204208  \n",
       "std      0.806057   49.693429  \n",
       "min      0.000000    0.000000  \n",
       "25%      0.000000    7.910400  \n",
       "50%      0.000000   14.454200  \n",
       "75%      0.000000   31.000000  \n",
       "max      6.000000  512.329200  "
      ]
     },
     "execution_count": 15,
     "metadata": {},
     "output_type": "execute_result"
    }
   ],
   "source": [
    "#As we can see passenger id is just index it's pretty much useless :=)\n",
    "#Survived is the output \n",
    "#let's see Pclass and Fare it is also very important\n",
    "dataset.describe()\n",
    "#it's passenger class it's very much useful for telling the class of the passenger (economic status)"
   ]
  },
  {
   "cell_type": "code",
   "execution_count": 16,
   "metadata": {
    "collapsed": true
   },
   "outputs": [],
   "source": [
    "#In pclass 1 means upper class\n",
    "#Now to make a better feature let's add fare/pclass which is larger if we have better class and more fare (You know\n",
    "#More rich!!)\n",
    "dataset[\"FarePerClass\"]=dataset[\"Fare\"]/dataset[\"Pclass\"]"
   ]
  },
  {
   "cell_type": "code",
   "execution_count": 17,
   "metadata": {},
   "outputs": [
    {
     "data": {
      "text/html": [
       "<div>\n",
       "<style>\n",
       "    .dataframe thead tr:only-child th {\n",
       "        text-align: right;\n",
       "    }\n",
       "\n",
       "    .dataframe thead th {\n",
       "        text-align: left;\n",
       "    }\n",
       "\n",
       "    .dataframe tbody tr th {\n",
       "        vertical-align: top;\n",
       "    }\n",
       "</style>\n",
       "<table border=\"1\" class=\"dataframe\">\n",
       "  <thead>\n",
       "    <tr style=\"text-align: right;\">\n",
       "      <th></th>\n",
       "      <th>PassengerId</th>\n",
       "      <th>Survived</th>\n",
       "      <th>Pclass</th>\n",
       "      <th>Age</th>\n",
       "      <th>SibSp</th>\n",
       "      <th>Parch</th>\n",
       "      <th>Fare</th>\n",
       "      <th>FarePerClass</th>\n",
       "    </tr>\n",
       "  </thead>\n",
       "  <tbody>\n",
       "    <tr>\n",
       "      <th>count</th>\n",
       "      <td>891.000000</td>\n",
       "      <td>891.000000</td>\n",
       "      <td>891.000000</td>\n",
       "      <td>714.000000</td>\n",
       "      <td>891.000000</td>\n",
       "      <td>891.000000</td>\n",
       "      <td>891.000000</td>\n",
       "      <td>891.000000</td>\n",
       "    </tr>\n",
       "    <tr>\n",
       "      <th>mean</th>\n",
       "      <td>446.000000</td>\n",
       "      <td>0.383838</td>\n",
       "      <td>2.308642</td>\n",
       "      <td>29.699118</td>\n",
       "      <td>0.523008</td>\n",
       "      <td>0.381594</td>\n",
       "      <td>32.204208</td>\n",
       "      <td>25.046650</td>\n",
       "    </tr>\n",
       "    <tr>\n",
       "      <th>std</th>\n",
       "      <td>257.353842</td>\n",
       "      <td>0.486592</td>\n",
       "      <td>0.836071</td>\n",
       "      <td>14.526497</td>\n",
       "      <td>1.102743</td>\n",
       "      <td>0.806057</td>\n",
       "      <td>49.693429</td>\n",
       "      <td>51.245594</td>\n",
       "    </tr>\n",
       "    <tr>\n",
       "      <th>min</th>\n",
       "      <td>1.000000</td>\n",
       "      <td>0.000000</td>\n",
       "      <td>1.000000</td>\n",
       "      <td>0.420000</td>\n",
       "      <td>0.000000</td>\n",
       "      <td>0.000000</td>\n",
       "      <td>0.000000</td>\n",
       "      <td>0.000000</td>\n",
       "    </tr>\n",
       "    <tr>\n",
       "      <th>25%</th>\n",
       "      <td>223.500000</td>\n",
       "      <td>0.000000</td>\n",
       "      <td>2.000000</td>\n",
       "      <td>20.125000</td>\n",
       "      <td>0.000000</td>\n",
       "      <td>0.000000</td>\n",
       "      <td>7.910400</td>\n",
       "      <td>2.641667</td>\n",
       "    </tr>\n",
       "    <tr>\n",
       "      <th>50%</th>\n",
       "      <td>446.000000</td>\n",
       "      <td>0.000000</td>\n",
       "      <td>3.000000</td>\n",
       "      <td>28.000000</td>\n",
       "      <td>0.000000</td>\n",
       "      <td>0.000000</td>\n",
       "      <td>14.454200</td>\n",
       "      <td>6.325000</td>\n",
       "    </tr>\n",
       "    <tr>\n",
       "      <th>75%</th>\n",
       "      <td>668.500000</td>\n",
       "      <td>1.000000</td>\n",
       "      <td>3.000000</td>\n",
       "      <td>38.000000</td>\n",
       "      <td>1.000000</td>\n",
       "      <td>0.000000</td>\n",
       "      <td>31.000000</td>\n",
       "      <td>23.183333</td>\n",
       "    </tr>\n",
       "    <tr>\n",
       "      <th>max</th>\n",
       "      <td>891.000000</td>\n",
       "      <td>1.000000</td>\n",
       "      <td>3.000000</td>\n",
       "      <td>80.000000</td>\n",
       "      <td>8.000000</td>\n",
       "      <td>6.000000</td>\n",
       "      <td>512.329200</td>\n",
       "      <td>512.329200</td>\n",
       "    </tr>\n",
       "  </tbody>\n",
       "</table>\n",
       "</div>"
      ],
      "text/plain": [
       "       PassengerId    Survived      Pclass         Age       SibSp  \\\n",
       "count   891.000000  891.000000  891.000000  714.000000  891.000000   \n",
       "mean    446.000000    0.383838    2.308642   29.699118    0.523008   \n",
       "std     257.353842    0.486592    0.836071   14.526497    1.102743   \n",
       "min       1.000000    0.000000    1.000000    0.420000    0.000000   \n",
       "25%     223.500000    0.000000    2.000000   20.125000    0.000000   \n",
       "50%     446.000000    0.000000    3.000000   28.000000    0.000000   \n",
       "75%     668.500000    1.000000    3.000000   38.000000    1.000000   \n",
       "max     891.000000    1.000000    3.000000   80.000000    8.000000   \n",
       "\n",
       "            Parch        Fare  FarePerClass  \n",
       "count  891.000000  891.000000    891.000000  \n",
       "mean     0.381594   32.204208     25.046650  \n",
       "std      0.806057   49.693429     51.245594  \n",
       "min      0.000000    0.000000      0.000000  \n",
       "25%      0.000000    7.910400      2.641667  \n",
       "50%      0.000000   14.454200      6.325000  \n",
       "75%      0.000000   31.000000     23.183333  \n",
       "max      6.000000  512.329200    512.329200  "
      ]
     },
     "execution_count": 17,
     "metadata": {},
     "output_type": "execute_result"
    }
   ],
   "source": [
    "dataset.describe()"
   ]
  },
  {
   "cell_type": "code",
   "execution_count": 18,
   "metadata": {},
   "outputs": [
    {
     "data": {
      "image/png": "[encoded data removed]",
      "text/plain": [
       "<matplotlib.figure.Figure at 0x112d5afd0>"
      ]
     },
     "metadata": {},
     "output_type": "display_data"
    }
   ],
   "source": [
    "#let's see if it works ??\n",
    "pd.plotting.scatter_matrix(dataset[[\"FarePerClass\",\"Survived\"]])\n",
    "plt.show()"
   ]
  },
  {
   "cell_type": "code",
   "execution_count": 19,
   "metadata": {
    "collapsed": true
   },
   "outputs": [],
   "source": [
    "#let's see the correlation matrix\n",
    "corr_matrix=dataset.corr()"
   ]
  },
  {
   "cell_type": "code",
   "execution_count": 20,
   "metadata": {},
   "outputs": [
    {
     "name": "stdout",
     "output_type": "stream",
     "text": [
      "Survived        1.000000\n",
      "FarePerClass    0.267627\n",
      "Fare            0.257307\n",
      "Parch           0.081629\n",
      "PassengerId    -0.005007\n",
      "SibSp          -0.035322\n",
      "Age            -0.077221\n",
      "Pclass         -0.338481\n",
      "Name: Survived, dtype: float64\n"
     ]
    }
   ],
   "source": [
    "print(corr_matrix[\"Survived\"].sort_values(ascending=False))"
   ]
  },
  {
   "cell_type": "code",
   "execution_count": 21,
   "metadata": {
    "collapsed": true
   },
   "outputs": [],
   "source": [
    "#let's rescale fare then do the fare per class (again)\n",
    "dataset[\"Fare_scaled\"]=(dataset[\"Fare\"]-dataset[\"Fare\"].mean())/dataset[\"Fare\"].std()"
   ]
  },
  {
   "cell_type": "code",
   "execution_count": 22,
   "metadata": {
    "collapsed": true
   },
   "outputs": [],
   "source": [
    "dataset[\"FarePerClass_scaled\"]=dataset[\"Fare_scaled\"]/dataset[\"Pclass\"]"
   ]
  },
  {
   "cell_type": "code",
   "execution_count": 23,
   "metadata": {},
   "outputs": [
    {
     "name": "stdout",
     "output_type": "stream",
     "text": [
      "Survived               1.000000\n",
      "FarePerClass           0.267627\n",
      "Fare_scaled            0.257307\n",
      "Fare                   0.257307\n",
      "FarePerClass_scaled    0.236253\n",
      "Parch                  0.081629\n",
      "PassengerId           -0.005007\n",
      "SibSp                 -0.035322\n",
      "Age                   -0.077221\n",
      "Pclass                -0.338481\n",
      "Name: Survived, dtype: float64\n"
     ]
    }
   ],
   "source": [
    "#let's see the corr_matrix\n",
    "corr_matrix=dataset.corr()\n",
    "print(corr_matrix[\"Survived\"].sort_values(ascending=False))"
   ]
  },
  {
   "cell_type": "code",
   "execution_count": 24,
   "metadata": {
    "collapsed": true
   },
   "outputs": [],
   "source": [
    "#As we can see Fareperclass scaled is not working that good\n",
    "#Even better is working the Pclass right? let's see the reciprocal of Pclass\n",
    "dataset[\"Pclass_Reverse\"]=4-dataset[\"Pclass\"]"
   ]
  },
  {
   "cell_type": "code",
   "execution_count": 25,
   "metadata": {},
   "outputs": [
    {
     "name": "stdout",
     "output_type": "stream",
     "text": [
      "Survived               1.000000\n",
      "Pclass_Reverse         0.338481\n",
      "FarePerClass           0.267627\n",
      "Fare_scaled            0.257307\n",
      "Fare                   0.257307\n",
      "FarePerClass_scaled    0.236253\n",
      "Parch                  0.081629\n",
      "PassengerId           -0.005007\n",
      "SibSp                 -0.035322\n",
      "Age                   -0.077221\n",
      "Pclass                -0.338481\n",
      "Name: Survived, dtype: float64\n"
     ]
    }
   ],
   "source": [
    "#let's see the corr_matrix\n",
    "corr_matrix=dataset.corr()\n",
    "print(corr_matrix[\"Survived\"].sort_values(ascending=False))"
   ]
  },
  {
   "cell_type": "code",
   "execution_count": 26,
   "metadata": {
    "collapsed": true
   },
   "outputs": [],
   "source": [
    "#Only Pclass_Reverse and FarePerClass are highly correlated\n",
    "#Even after including the fares Pclass is much better than FareperClass"
   ]
  },
  {
   "cell_type": "code",
   "execution_count": 27,
   "metadata": {},
   "outputs": [
    {
     "name": "stdout",
     "output_type": "stream",
     "text": [
      "<class 'pandas.core.frame.DataFrame'>\n",
      "RangeIndex: 891 entries, 0 to 890\n",
      "Data columns (total 16 columns):\n",
      "PassengerId            891 non-null int64\n",
      "Survived               891 non-null int64\n",
      "Pclass                 891 non-null int64\n",
      "Name                   891 non-null object\n",
      "Sex                    891 non-null object\n",
      "Age                    714 non-null float64\n",
      "SibSp                  891 non-null int64\n",
      "Parch                  891 non-null int64\n",
      "Ticket                 891 non-null object\n",
      "Fare                   891 non-null float64\n",
      "Cabin                  204 non-null object\n",
      "Embarked               889 non-null object\n",
      "FarePerClass           891 non-null float64\n",
      "Fare_scaled            891 non-null float64\n",
      "FarePerClass_scaled    891 non-null float64\n",
      "Pclass_Reverse         891 non-null int64\n",
      "dtypes: float64(5), int64(6), object(5)\n",
      "memory usage: 111.5+ KB\n"
     ]
    }
   ],
   "source": [
    "dataset.info()"
   ]
  },
  {
   "cell_type": "code",
   "execution_count": 28,
   "metadata": {},
   "outputs": [
    {
     "data": {
      "text/plain": [
       "male      577\n",
       "female    314\n",
       "Name: Sex, dtype: int64"
      ]
     },
     "execution_count": 28,
     "metadata": {},
     "output_type": "execute_result"
    }
   ],
   "source": [
    "dataset[\"Sex\"].value_counts()"
   ]
  },
  {
   "cell_type": "code",
   "execution_count": 29,
   "metadata": {
    "collapsed": true
   },
   "outputs": [],
   "source": [
    "dataset[\"Sex_num\"]=[i for i in map(lambda x: 0 if x=='male' else 1 , dataset[\"Sex\"])]"
   ]
  },
  {
   "cell_type": "code",
   "execution_count": 30,
   "metadata": {},
   "outputs": [
    {
     "name": "stdout",
     "output_type": "stream",
     "text": [
      "<class 'pandas.core.frame.DataFrame'>\n",
      "RangeIndex: 891 entries, 0 to 890\n",
      "Data columns (total 17 columns):\n",
      "PassengerId            891 non-null int64\n",
      "Survived               891 non-null int64\n",
      "Pclass                 891 non-null int64\n",
      "Name                   891 non-null object\n",
      "Sex                    891 non-null object\n",
      "Age                    714 non-null float64\n",
      "SibSp                  891 non-null int64\n",
      "Parch                  891 non-null int64\n",
      "Ticket                 891 non-null object\n",
      "Fare                   891 non-null float64\n",
      "Cabin                  204 non-null object\n",
      "Embarked               889 non-null object\n",
      "FarePerClass           891 non-null float64\n",
      "Fare_scaled            891 non-null float64\n",
      "FarePerClass_scaled    891 non-null float64\n",
      "Pclass_Reverse         891 non-null int64\n",
      "Sex_num                891 non-null int64\n",
      "dtypes: float64(5), int64(7), object(5)\n",
      "memory usage: 118.4+ KB\n"
     ]
    }
   ],
   "source": [
    "dataset.info()"
   ]
  },
  {
   "cell_type": "code",
   "execution_count": 31,
   "metadata": {},
   "outputs": [
    {
     "name": "stdout",
     "output_type": "stream",
     "text": [
      "Survived               1.000000\n",
      "Sex_num                0.543351\n",
      "Pclass_Reverse         0.338481\n",
      "FarePerClass           0.267627\n",
      "Fare_scaled            0.257307\n",
      "Fare                   0.257307\n",
      "FarePerClass_scaled    0.236253\n",
      "Parch                  0.081629\n",
      "PassengerId           -0.005007\n",
      "SibSp                 -0.035322\n",
      "Age                   -0.077221\n",
      "Pclass                -0.338481\n",
      "Name: Survived, dtype: float64\n"
     ]
    }
   ],
   "source": [
    "#let's see the corr_matrix\n",
    "corr_matrix=dataset.corr()\n",
    "print(corr_matrix[\"Survived\"].sort_values(ascending=False))"
   ]
  },
  {
   "cell_type": "code",
   "execution_count": 32,
   "metadata": {
    "scrolled": false
   },
   "outputs": [
    {
     "data": {
      "text/plain": [
       "0                                Braund, Mr. Owen Harris\n",
       "1      Cumings, Mrs. John Bradley (Florence Briggs Th...\n",
       "2                                 Heikkinen, Miss. Laina\n",
       "3           Futrelle, Mrs. Jacques Heath (Lily May Peel)\n",
       "4                               Allen, Mr. William Henry\n",
       "5                                       Moran, Mr. James\n",
       "6                                McCarthy, Mr. Timothy J\n",
       "7                         Palsson, Master. Gosta Leonard\n",
       "8      Johnson, Mrs. Oscar W (Elisabeth Vilhelmina Berg)\n",
       "9                    Nasser, Mrs. Nicholas (Adele Achem)\n",
       "10                       Sandstrom, Miss. Marguerite Rut\n",
       "11                              Bonnell, Miss. Elizabeth\n",
       "12                        Saundercock, Mr. William Henry\n",
       "13                           Andersson, Mr. Anders Johan\n",
       "14                  Vestrom, Miss. Hulda Amanda Adolfina\n",
       "15                      Hewlett, Mrs. (Mary D Kingcome) \n",
       "16                                  Rice, Master. Eugene\n",
       "17                          Williams, Mr. Charles Eugene\n",
       "18     Vander Planke, Mrs. Julius (Emelia Maria Vande...\n",
       "19                               Masselmani, Mrs. Fatima\n",
       "20                                  Fynney, Mr. Joseph J\n",
       "21                                 Beesley, Mr. Lawrence\n",
       "22                           McGowan, Miss. Anna \"Annie\"\n",
       "23                          Sloper, Mr. William Thompson\n",
       "24                         Palsson, Miss. Torborg Danira\n",
       "25     Asplund, Mrs. Carl Oscar (Selma Augusta Emilia...\n",
       "26                               Emir, Mr. Farred Chehab\n",
       "27                        Fortune, Mr. Charles Alexander\n",
       "28                         O'Dwyer, Miss. Ellen \"Nellie\"\n",
       "29                                   Todoroff, Mr. Lalio\n",
       "                             ...                        \n",
       "861                          Giles, Mr. Frederick Edward\n",
       "862    Swift, Mrs. Frederick Joel (Margaret Welles Ba...\n",
       "863                    Sage, Miss. Dorothy Edith \"Dolly\"\n",
       "864                               Gill, Mr. John William\n",
       "865                             Bystrom, Mrs. (Karolina)\n",
       "866                         Duran y More, Miss. Asuncion\n",
       "867                 Roebling, Mr. Washington Augustus II\n",
       "868                          van Melkebeke, Mr. Philemon\n",
       "869                      Johnson, Master. Harold Theodor\n",
       "870                                    Balkic, Mr. Cerin\n",
       "871     Beckwith, Mrs. Richard Leonard (Sallie Monypeny)\n",
       "872                             Carlsson, Mr. Frans Olof\n",
       "873                          Vander Cruyssen, Mr. Victor\n",
       "874                Abelson, Mrs. Samuel (Hannah Wizosky)\n",
       "875                     Najib, Miss. Adele Kiamie \"Jane\"\n",
       "876                        Gustafsson, Mr. Alfred Ossian\n",
       "877                                 Petroff, Mr. Nedelio\n",
       "878                                   Laleff, Mr. Kristo\n",
       "879        Potter, Mrs. Thomas Jr (Lily Alexenia Wilson)\n",
       "880         Shelley, Mrs. William (Imanita Parrish Hall)\n",
       "881                                   Markun, Mr. Johann\n",
       "882                         Dahlberg, Miss. Gerda Ulrika\n",
       "883                        Banfield, Mr. Frederick James\n",
       "884                               Sutehall, Mr. Henry Jr\n",
       "885                 Rice, Mrs. William (Margaret Norton)\n",
       "886                                Montvila, Rev. Juozas\n",
       "887                         Graham, Miss. Margaret Edith\n",
       "888             Johnston, Miss. Catherine Helen \"Carrie\"\n",
       "889                                Behr, Mr. Karl Howell\n",
       "890                                  Dooley, Mr. Patrick\n",
       "Name: Name, Length: 891, dtype: object"
      ]
     },
     "execution_count": 32,
     "metadata": {},
     "output_type": "execute_result"
    }
   ],
   "source": [
    "#As you can see Gender has a very good correlation on it\n",
    "#let's see if we can do something with the name\n",
    "dataset[\"Name\"]"
   ]
  },
  {
   "cell_type": "code",
   "execution_count": 33,
   "metadata": {
    "collapsed": true,
    "scrolled": true
   },
   "outputs": [],
   "source": [
    "#let's find some meaning in this name\n",
    "Name_extract=[]\n",
    "for i in dataset[\"Name\"]:\n",
    "    j=0\n",
    "    for j in range(len(i)):\n",
    "        if i[j]==',':\n",
    "            break\n",
    "    Name_extract.append(i[:j])"
   ]
  },
  {
   "cell_type": "code",
   "execution_count": 113,
   "metadata": {},
   "outputs": [
    {
     "name": "stdout",
     "output_type": "stream",
     "text": [
      "['Braund', 'Cumings', 'Heikkinen', 'Futrelle', 'Allen', 'Moran', 'McCarthy', 'Palsson', 'Johnson', 'Nasser', 'Sandstrom', 'Bonnell', 'Saundercock', 'Andersson', 'Vestrom', 'Hewlett', 'Rice', 'Williams', 'Vander Planke', 'Masselmani', 'Fynney', 'Beesley', 'McGowan', 'Sloper', 'Palsson', 'Asplund', 'Emir', 'Fortune', \"O'Dwyer\", 'Todoroff', 'Uruchurtu', 'Spencer', 'Glynn', 'Wheadon', 'Meyer', 'Holverson', 'Mamee', 'Cann', 'Vander Planke', 'Nicola-Yarred', 'Ahlin', 'Turpin', 'Kraeff', 'Laroche', 'Devaney', 'Rogers', 'Lennon', \"O'Driscoll\", 'Samaan', 'Arnold-Franchi', 'Panula', 'Nosworthy', 'Harper', 'Faunthorpe', 'Ostby', 'Woolner', 'Rugg', 'Novel', 'West', 'Goodwin', 'Sirayanian', 'Icard', 'Harris', 'Skoog', 'Stewart', 'Moubarek', 'Nye', 'Crease', 'Andersson', 'Kink', 'Jenkin', 'Goodwin', 'Hood', 'Chronopoulos', 'Bing', 'Moen', 'Staneff', 'Moutal', 'Caldwell', 'Dowdell', 'Waelens', 'Sheerlinck', 'McDermott', 'Carrau', 'Ilett', 'Backstrom', 'Ford', 'Slocovski', 'Fortune', 'Celotti', 'Christmann', 'Andreasson', 'Chaffee', 'Dean', 'Coxon', 'Shorney', 'Goldschmidt', 'Greenfield', 'Doling', 'Kantor', 'Petranec', 'Petroff', 'White', 'Johansson', 'Gustafsson', 'Mionoff', 'Salkjelsvik', 'Moss', 'Rekic', 'Moran', 'Porter', 'Zabour', 'Barton', 'Jussila', 'Attalah', 'Pekoniemi', 'Connors', 'Turpin', 'Baxter', 'Andersson', 'Hickman', 'Moore', 'Nasser', 'Webber', 'White', 'Nicola-Yarred', 'McMahon', 'Madsen', 'Peter', 'Ekstrom', 'Drazenoic', 'Coelho', 'Robins', 'Weisz', 'Sobey', 'Richard', 'Newsom', 'Futrelle', 'Osen', 'Giglio', 'Boulos', 'Nysten', 'Hakkarainen', 'Burke', 'Andrew', 'Nicholls', 'Andersson', 'Ford', 'Navratil', 'Byles', 'Bateman', 'Pears', 'Meo', 'van Billiard', 'Olsen', 'Williams', 'Gilnagh', 'Corn', 'Smiljanic', 'Sage', 'Cribb', 'Watt', 'Bengtsson', 'Calic', 'Panula', 'Goldsmith', 'Chibnall', 'Skoog', 'Baumann', 'Ling', 'Van der hoef', 'Rice', 'Johnson', 'Sivola', 'Smith', 'Klasen', 'Lefebre', 'Isham', 'Hale', 'Leonard', 'Sage', 'Pernot', 'Asplund', 'Becker', 'Kink-Heilmann', 'Rood', \"O'Brien\", 'Romaine', 'Bourke', 'Turcin', 'Pinsky', 'Carbines', 'Andersen-Jensen', 'Navratil', 'Brown', 'Lurette', 'Mernagh', 'Olsen', 'Madigan', 'Yrois', 'Vande Walle', 'Sage', 'Johanson', 'Youseff', 'Cohen', 'Strom', 'Backstrom', 'Albimona', 'Carr', 'Blank', 'Ali', 'Cameron', 'Perkin', 'Givard', 'Kiernan', 'Newell', 'Honkanen', 'Jacobsohn', 'Bazzani', 'Harris', 'Sunderland', 'Bracken', 'Green', 'Nenkoff', 'Hoyt', 'Berglund', 'Mellors', 'Lovell', 'Fahlstrom', 'Lefebre', 'Harris', 'Larsson', 'Sjostedt', 'Asplund', 'Leyson', 'Harknett', 'Hold', 'Collyer', 'Pengelly', 'Hunt', 'Zabour', 'Murphy', 'Coleridge', 'Maenpaa', 'Attalah', 'Minahan', 'Lindahl', 'Hamalainen', 'Beckwith', 'Carter', 'Reed', 'Strom', 'Stead', 'Lobb', 'Rosblom', 'Touma', 'Thorne', 'Cherry', 'Ward', 'Parrish', 'Smith', 'Asplund', 'Taussig', 'Harrison', 'Henry', 'Reeves', 'Panula', 'Persson', 'Graham', 'Bissette', 'Cairns', 'Tornquist', 'Mellinger', 'Natsch', 'Healy', 'Andrews', 'Lindblom', 'Parkes', 'Rice', 'Abbott', 'Duane', 'Olsson', 'de Pelsmaeker', 'Dorking', 'Smith', 'Stankovic', 'de Mulder', 'Naidenoff', 'Hosono', 'Connolly', 'Barber', 'Bishop', 'Levy', 'Haas', 'Mineff', 'Lewy', 'Hanna', 'Allison', 'Saalfeld', 'Baxter', 'Kelly', 'McCoy', 'Johnson', 'Keane', 'Williams', 'Allison', 'Fleming', 'Penasco y Castellana', 'Abelson', 'Francatelli', 'Hays', 'Ryerson', 'Lahtinen', 'Hendekovic', 'Hart', 'Nilsson', 'Kantor', 'Moraweck', 'Wick', 'Spedden', 'Dennis', 'Danoff', 'Slayter', 'Caldwell', 'Sage', 'Young', 'Nysveen', 'Ball', 'Goldsmith', 'Hippach', 'McCoy', 'Partner', 'Graham', 'Vander Planke', 'Frauenthal', 'Denkoff', 'Pears', 'Burns', 'Dahl', 'Blackwell', 'Navratil', 'Fortune', 'Collander', 'Sedgwick', 'Fox', 'Brown', 'Smith', 'Davison', 'Coutts', 'Dimic', 'Odahl', 'Williams-Lambert', 'Elias', 'Arnold-Franchi', 'Yousif', 'Vanden Steen', 'Bowerman', 'Funk', 'McGovern', 'Mockler', 'Skoog', 'del Carlo', 'Barbara', 'Asim', \"O'Brien\", 'Adahl', 'Warren', 'Moussa', 'Jermyn', 'Aubart', 'Harder', 'Wiklund', 'Beavan', 'Ringhini', 'Palsson', 'Meyer', 'Landergren', 'Widener', 'Betros', 'Gustafsson', 'Bidois', 'Nakid', 'Tikkanen', 'Holverson', 'Plotcharsky', 'Davies', 'Goodwin', 'Buss', 'Sadlier', 'Lehmann', 'Carter', 'Jansson', 'Gustafsson', 'Newell', 'Sandstrom', 'Johansson', 'Olsson', 'McKane', 'Pain', 'Trout', 'Niskanen', 'Adams', 'Jussila', 'Hakkarainen', 'Oreskovic', 'Gale', 'Widegren', 'Richards', 'Birkeland', 'Lefebre', 'Sdycoff', 'Hart', 'Minahan', 'Cunningham', 'Sundman', 'Meek', 'Drew', 'Silven', 'Matthews', 'Van Impe', 'Gheorgheff', 'Charters', 'Zimmerman', 'Danbom', 'Rosblom', 'Wiseman', 'Clarke', 'Phillips', 'Flynn', 'Pickard', 'Bjornstrom-Steffansson', 'Thorneycroft', 'Louch', 'Kallio', 'Silvey', 'Carter', 'Ford', 'Richards', 'Fortune', 'Kvillner', 'Hart', 'Hampe', 'Petterson', 'Reynaldo', 'Johannesen-Bratthammer', 'Dodge', 'Mellinger', 'Seward', 'Baclini', 'Peuchen', 'West', 'Hagland', 'Foreman', 'Goldenberg', 'Peduzzi', 'Jalsevac', 'Millet', 'Kenyon', 'Toomey', \"O'Connor\", 'Anderson', 'Morley', 'Gee', 'Milling', 'Maisner', 'Goncalves', 'Campbell', 'Smart', 'Scanlan', 'Baclini', 'Keefe', 'Cacic', 'West', 'Jerwan', 'Strandberg', 'Clifford', 'Renouf', 'Braund', 'Karlsson', 'Hirvonen', 'Goodwin', 'Frost', 'Rouse', 'Turkula', 'Bishop', 'Lefebre', 'Hoyt', 'Kent', 'Somerton', 'Coutts', 'Hagland', 'Windelov', 'Molson', 'Artagaveytia', 'Stanley', 'Yousseff', 'Eustis', 'Shellard', 'Allison', 'Svensson', 'Calic', 'Canavan', \"O'Sullivan\", 'Laitinen', 'Maioni', 'Penasco y Castellana', 'Quick', 'Bradley', 'Olsen', 'Lang', 'Daly', 'Webber', 'McGough', 'Rothschild', 'Coleff', 'Walker', 'Lemore', 'Ryan', 'Angle', 'Pavlovic', 'Perreault', 'Vovk', 'Lahoud', 'Hippach', 'Kassem', 'Farrell', 'Ridsdale', 'Farthing', 'Salonen', 'Hocking', 'Quick', 'Toufik', 'Elias', 'Peter', 'Cacic', 'Hart', 'Butt', 'LeRoy', 'Risien', 'Frolicher', 'Crosby', 'Andersson', 'Andersson', 'Beane', 'Douglas', 'Nicholson', 'Beane', 'Padro y Manent', 'Goldsmith', 'Davies', 'Thayer', 'Sharp', \"O'Brien\", 'Leeni', 'Ohman', 'Wright', 'Duff Gordon', 'Robbins', 'Taussig', 'de Messemaeker', 'Morrow', 'Sivic', 'Norman', 'Simmons', 'Meanwell', 'Davies', 'Stoytcheff', 'Palsson', 'Doharr', 'Jonsson', 'Harris', 'Appleton', 'Flynn', 'Kelly', 'Rush', 'Patchett', 'Garside', 'Silvey', 'Caram', 'Jussila', 'Christy', 'Thayer', 'Downton', 'Ross', 'Paulner', 'Taussig', 'Jarvis', 'Frolicher-Stehli', 'Gilinski', 'Murdlin', 'Rintamaki', 'Stephenson', 'Elsbury', 'Bourke', 'Chapman', 'Van Impe', 'Leitch', 'Johnson', 'Boulos', 'Duff Gordon', 'Jacobsohn', 'Slabenoff', 'Harrington', 'Torber', 'Homer', 'Lindell', 'Karaic', 'Daniel', 'Laroche', 'Shutes', 'Andersson', 'Jardin', 'Murphy', 'Horgan', 'Brocklebank', 'Herman', 'Danbom', 'Lobb', 'Becker', 'Gavey', 'Yasbeck', 'Kimball', 'Nakid', 'Hansen', 'Bowen', 'Sutton', 'Kirkland', 'Longley', 'Bostandyeff', \"O'Connell\", 'Barkworth', 'Lundahl', 'Stahelin-Maeglin', 'Parr', 'Skoog', 'Davis', 'Leinonen', 'Collyer', 'Panula', 'Thorneycroft', 'Jensen', 'Sagesser', 'Skoog', 'Foo', 'Baclini', 'Harper', 'Cor', 'Simonius-Blumer', 'Willey', 'Stanley', 'Mitkoff', 'Doling', 'Kalvik', \"O'Leary\", 'Hegarty', 'Hickman', 'Radeff', 'Bourke', 'Eitemiller', 'Newell', 'Frauenthal', 'Badt', 'Colley', 'Coleff', 'Lindqvist', 'Hickman', 'Butler', 'Rommetvedt', 'Cook', 'Taylor', 'Brown', 'Davidson', 'Mitchell', 'Wilhelms', 'Watson', 'Edvardsson', 'Sawyer', 'Turja', 'Goodwin', 'Cardeza', 'Peters', 'Hassab', 'Olsvigen', 'Goodwin', 'Brown', 'Laroche', 'Panula', 'Dakic', 'Fischer', 'Madill', 'Dick', 'Karun', 'Lam', 'Saad', 'Weir', 'Chapman', 'Kelly', 'Mullens', 'Thayer', 'Humblen', 'Astor', 'Silverthorne', 'Barbara', 'Gallagher', 'Hansen', 'Morley', 'Kelly', 'Calderhead', 'Cleaver', 'Moubarek', 'Mayne', 'Klaber', 'Taylor', 'Larsson', 'Greenberg', 'Soholt', 'Endres', 'Troutt', 'McEvoy', 'Johnson', 'Harper', 'Jensen', 'Gillespie', 'Hodges', 'Chambers', 'Oreskovic', 'Renouf', 'Mannion', 'Bryhl', 'Ilmakangas', 'Allen', 'Hassan', 'Knight', 'Berriman', 'Troupiansky', 'Williams', 'Ford', 'Lesurer', 'Ivanoff', 'Nankoff', 'Hawksford', 'Cavendish', 'Ryerson', 'McNamee', 'Stranden', 'Crosby', 'Abbott', 'Sinkkonen', 'Marvin', 'Connaghton', 'Wells', 'Moor', 'Vande Velde', 'Jonkoff', 'Herman', 'Hamalainen', 'Carlsson', 'Bailey', 'Theobald', 'Rothes', 'Garfirth', 'Nirva', 'Barah', 'Carter', 'Eklund', 'Hogeboom', 'Brewe', 'Mangan', 'Moran', 'Gronnestad', 'Lievens', 'Jensen', 'Mack', 'Elias', 'Hocking', 'Myhrman', 'Tobin', 'Emanuel', 'Kilgannon', 'Robert', 'Ayoub', 'Dick', 'Long', 'Johnston', 'Ali', 'Harmer', 'Sjoblom', 'Rice', 'Dean', 'Guggenheim', 'Keane', 'Gaskell', 'Sage', 'Hoyt', 'Dantcheff', 'Otter', 'Leader', 'Osman', 'Ibrahim Shawah', 'Van Impe', 'Ponesell', 'Collyer', 'Carter', 'Thomas', 'Hedman', 'Johansson', 'Andrews', 'Pettersson', 'Meyer', 'Chambers', 'Alexander', 'Lester', 'Slemen', 'Andersson', 'Tomlin', 'Fry', 'Heininen', 'Mallet', 'Holm', 'Skoog', 'Hays', 'Lulic', 'Reuchlin', 'Moor', 'Panula', 'Flynn', 'Lam', 'Mallet', 'McCormack', 'Stone', 'Yasbeck', 'Richards', 'Saad', 'Augustsson', 'Allum', 'Compton', 'Pasic', 'Sirota', 'Chip', 'Marechal', 'Alhomaki', 'Mudd', 'Serepeca', 'Lemberopolous', 'Culumovic', 'Abbing', 'Sage', 'Markoff', 'Harper', 'Goldenberg', 'Andersson', 'Svensson', 'Boulos', 'Lines', 'Carter', 'Aks', 'Wick', 'Daly', 'Baclini', 'Razi', 'Hansen', 'Giles', 'Swift', 'Sage', 'Gill', 'Bystrom', 'Duran y More', 'Roebling', 'van Melkebeke', 'Johnson', 'Balkic', 'Beckwith', 'Carlsson', 'Vander Cruyssen', 'Abelson', 'Najib', 'Gustafsson', 'Petroff', 'Laleff', 'Potter', 'Shelley', 'Markun', 'Dahlberg', 'Banfield', 'Sutehall', 'Rice', 'Montvila', 'Graham', 'Johnston', 'Behr', 'Dooley']\n"
     ]
    }
   ],
   "source": [
    "#Let's add it to dataset\n",
    "dataset[\"Name_Extract\"]=Name_extract\n",
    "print(Name_extract)"
   ]
  },
  {
   "cell_type": "code",
   "execution_count": 35,
   "metadata": {},
   "outputs": [
    {
     "data": {
      "text/plain": [
       "Andersson       9\n",
       "Sage            7\n",
       "Goodwin         6\n",
       "Panula          6\n",
       "Skoog           6\n",
       "Johnson         6\n",
       "Carter          6\n",
       "Rice            5\n",
       "Harris          4\n",
       "Smith           4\n",
       "Kelly           4\n",
       "Brown           4\n",
       "Baclini         4\n",
       "Palsson         4\n",
       "Hart            4\n",
       "Harper          4\n",
       "Ford            4\n",
       "Williams        4\n",
       "Fortune         4\n",
       "Gustafsson      4\n",
       "Lefebre         4\n",
       "Asplund         4\n",
       "Johansson       3\n",
       "O'Brien         3\n",
       "Allison         3\n",
       "Meyer           3\n",
       "West            3\n",
       "Moran           3\n",
       "Laroche         3\n",
       "Goldsmith       3\n",
       "               ..\n",
       "Watson          1\n",
       "Leinonen        1\n",
       "Mack            1\n",
       "Adahl           1\n",
       "Foo             1\n",
       "Calderhead      1\n",
       "Toomey          1\n",
       "Perreault       1\n",
       "Fry             1\n",
       "Burns           1\n",
       "Byles           1\n",
       "Crease          1\n",
       "Weisz           1\n",
       "Davis           1\n",
       "Jalsevac        1\n",
       "Kvillner        1\n",
       "Woolner         1\n",
       "Touma           1\n",
       "Roebling        1\n",
       "Kirkland        1\n",
       "Ayoub           1\n",
       "Pettersson      1\n",
       "Coelho          1\n",
       "Scanlan         1\n",
       "Augustsson      1\n",
       "Wright          1\n",
       "Appleton        1\n",
       "Vanden Steen    1\n",
       "Thorne          1\n",
       "Karlsson        1\n",
       "Name: Name_Extract, Length: 667, dtype: int64"
      ]
     },
     "execution_count": 35,
     "metadata": {},
     "output_type": "execute_result"
    }
   ],
   "source": [
    "dataset[\"Name_Extract\"].value_counts()"
   ]
  },
  {
   "cell_type": "code",
   "execution_count": 36,
   "metadata": {},
   "outputs": [
    {
     "data": {
      "text/plain": [
       "0                                Braund, Mr. Owen Harris\n",
       "1      Cumings, Mrs. John Bradley (Florence Briggs Th...\n",
       "2                                 Heikkinen, Miss. Laina\n",
       "3           Futrelle, Mrs. Jacques Heath (Lily May Peel)\n",
       "4                               Allen, Mr. William Henry\n",
       "5                                       Moran, Mr. James\n",
       "6                                McCarthy, Mr. Timothy J\n",
       "7                         Palsson, Master. Gosta Leonard\n",
       "8      Johnson, Mrs. Oscar W (Elisabeth Vilhelmina Berg)\n",
       "9                    Nasser, Mrs. Nicholas (Adele Achem)\n",
       "10                       Sandstrom, Miss. Marguerite Rut\n",
       "11                              Bonnell, Miss. Elizabeth\n",
       "12                        Saundercock, Mr. William Henry\n",
       "13                           Andersson, Mr. Anders Johan\n",
       "14                  Vestrom, Miss. Hulda Amanda Adolfina\n",
       "15                      Hewlett, Mrs. (Mary D Kingcome) \n",
       "16                                  Rice, Master. Eugene\n",
       "17                          Williams, Mr. Charles Eugene\n",
       "18     Vander Planke, Mrs. Julius (Emelia Maria Vande...\n",
       "19                               Masselmani, Mrs. Fatima\n",
       "20                                  Fynney, Mr. Joseph J\n",
       "21                                 Beesley, Mr. Lawrence\n",
       "22                           McGowan, Miss. Anna \"Annie\"\n",
       "23                          Sloper, Mr. William Thompson\n",
       "24                         Palsson, Miss. Torborg Danira\n",
       "25     Asplund, Mrs. Carl Oscar (Selma Augusta Emilia...\n",
       "26                               Emir, Mr. Farred Chehab\n",
       "27                        Fortune, Mr. Charles Alexander\n",
       "28                         O'Dwyer, Miss. Ellen \"Nellie\"\n",
       "29                                   Todoroff, Mr. Lalio\n",
       "                             ...                        \n",
       "861                          Giles, Mr. Frederick Edward\n",
       "862    Swift, Mrs. Frederick Joel (Margaret Welles Ba...\n",
       "863                    Sage, Miss. Dorothy Edith \"Dolly\"\n",
       "864                               Gill, Mr. John William\n",
       "865                             Bystrom, Mrs. (Karolina)\n",
       "866                         Duran y More, Miss. Asuncion\n",
       "867                 Roebling, Mr. Washington Augustus II\n",
       "868                          van Melkebeke, Mr. Philemon\n",
       "869                      Johnson, Master. Harold Theodor\n",
       "870                                    Balkic, Mr. Cerin\n",
       "871     Beckwith, Mrs. Richard Leonard (Sallie Monypeny)\n",
       "872                             Carlsson, Mr. Frans Olof\n",
       "873                          Vander Cruyssen, Mr. Victor\n",
       "874                Abelson, Mrs. Samuel (Hannah Wizosky)\n",
       "875                     Najib, Miss. Adele Kiamie \"Jane\"\n",
       "876                        Gustafsson, Mr. Alfred Ossian\n",
       "877                                 Petroff, Mr. Nedelio\n",
       "878                                   Laleff, Mr. Kristo\n",
       "879        Potter, Mrs. Thomas Jr (Lily Alexenia Wilson)\n",
       "880         Shelley, Mrs. William (Imanita Parrish Hall)\n",
       "881                                   Markun, Mr. Johann\n",
       "882                         Dahlberg, Miss. Gerda Ulrika\n",
       "883                        Banfield, Mr. Frederick James\n",
       "884                               Sutehall, Mr. Henry Jr\n",
       "885                 Rice, Mrs. William (Margaret Norton)\n",
       "886                                Montvila, Rev. Juozas\n",
       "887                         Graham, Miss. Margaret Edith\n",
       "888             Johnston, Miss. Catherine Helen \"Carrie\"\n",
       "889                                Behr, Mr. Karl Howell\n",
       "890                                  Dooley, Mr. Patrick\n",
       "Name: Name, Length: 891, dtype: object"
      ]
     },
     "execution_count": 36,
     "metadata": {},
     "output_type": "execute_result"
    }
   ],
   "source": [
    "dataset[\"Name\"]"
   ]
  },
  {
   "cell_type": "code",
   "execution_count": 37,
   "metadata": {},
   "outputs": [
    {
     "name": "stdout",
     "output_type": "stream",
     "text": [
      "Andersson       9\n",
      "Sage            7\n",
      "Goodwin         6\n",
      "Panula          6\n",
      "Skoog           6\n",
      "Johnson         6\n",
      "Carter          6\n",
      "Rice            5\n",
      "Harris          4\n",
      "Smith           4\n",
      "Kelly           4\n",
      "Brown           4\n",
      "Baclini         4\n",
      "Palsson         4\n",
      "Hart            4\n",
      "Harper          4\n",
      "Ford            4\n",
      "Williams        4\n",
      "Fortune         4\n",
      "Gustafsson      4\n",
      "Lefebre         4\n",
      "Asplund         4\n",
      "Johansson       3\n",
      "O'Brien         3\n",
      "Allison         3\n",
      "Meyer           3\n",
      "West            3\n",
      "Moran           3\n",
      "Laroche         3\n",
      "Goldsmith       3\n",
      "               ..\n",
      "Watson          1\n",
      "Leinonen        1\n",
      "Mack            1\n",
      "Adahl           1\n",
      "Foo             1\n",
      "Calderhead      1\n",
      "Toomey          1\n",
      "Perreault       1\n",
      "Fry             1\n",
      "Burns           1\n",
      "Byles           1\n",
      "Crease          1\n",
      "Weisz           1\n",
      "Davis           1\n",
      "Jalsevac        1\n",
      "Kvillner        1\n",
      "Woolner         1\n",
      "Touma           1\n",
      "Roebling        1\n",
      "Kirkland        1\n",
      "Ayoub           1\n",
      "Pettersson      1\n",
      "Coelho          1\n",
      "Scanlan         1\n",
      "Augustsson      1\n",
      "Wright          1\n",
      "Appleton        1\n",
      "Vanden Steen    1\n",
      "Thorne          1\n",
      "Karlsson        1\n",
      "Name: Name_Extract, Length: 667, dtype: int64\n"
     ]
    }
   ],
   "source": [
    "print(dataset[\"Name_Extract\"].value_counts())"
   ]
  },
  {
   "cell_type": "code",
   "execution_count": 38,
   "metadata": {},
   "outputs": [
    {
     "data": {
      "text/plain": [
       "Boulos, Mrs. Joseph (Sultana)                     1\n",
       "Saad, Mr. Khalil                                  1\n",
       "Carter, Mr. William Ernest                        1\n",
       "Daly, Mr. Peter Denis                             1\n",
       "Keefe, Mr. Arthur                                 1\n",
       "Young, Miss. Marie Grice                          1\n",
       "Larsson, Mr. Bengt Edvin                          1\n",
       "Ryerson, Miss. Susan Parker \"Suzette\"             1\n",
       "Kiernan, Mr. Philip                               1\n",
       "Leeni, Mr. Fahim (\"Philip Zenni\")                 1\n",
       "Lennon, Mr. Denis                                 1\n",
       "Bowerman, Miss. Elsie Edith                       1\n",
       "Carbines, Mr. William                             1\n",
       "Doling, Mrs. John T (Ada Julia Bone)              1\n",
       "Lindblom, Miss. Augusta Charlotta                 1\n",
       "Bradley, Mr. George (\"George Arthur Brayton\")     1\n",
       "Thorneycroft, Mr. Percival                        1\n",
       "Jalsevac, Mr. Ivan                                1\n",
       "Webber, Miss. Susan                               1\n",
       "Culumovic, Mr. Jeso                               1\n",
       "Cherry, Miss. Gladys                              1\n",
       "Aks, Mrs. Sam (Leah Rosen)                        1\n",
       "Vestrom, Miss. Hulda Amanda Adolfina              1\n",
       "Reeves, Mr. David                                 1\n",
       "Hansen, Mr. Claus Peter                           1\n",
       "Williams, Mr. Howard Hugh \"Harry\"                 1\n",
       "Beane, Mr. Edward                                 1\n",
       "Rintamaki, Mr. Matti                              1\n",
       "Serepeca, Miss. Augusta                           1\n",
       "Montvila, Rev. Juozas                             1\n",
       "                                                 ..\n",
       "Carter, Mrs. Ernest Courtenay (Lilian Hughes)     1\n",
       "Patchett, Mr. George                              1\n",
       "Rosblom, Mrs. Viktor (Helena Wilhelmina)          1\n",
       "Trout, Mrs. William H (Jessie L)                  1\n",
       "Gale, Mr. Shadrach                                1\n",
       "Moen, Mr. Sigurd Hansen                           1\n",
       "Yousif, Mr. Wazli                                 1\n",
       "Frost, Mr. Anthony Wood \"Archie\"                  1\n",
       "Dahlberg, Miss. Gerda Ulrika                      1\n",
       "McMahon, Mr. Martin                               1\n",
       "Wick, Miss. Mary Natalie                          1\n",
       "Futrelle, Mr. Jacques Heath                       1\n",
       "Tikkanen, Mr. Juho                                1\n",
       "Buss, Miss. Kate                                  1\n",
       "Madigan, Miss. Margaret \"Maggie\"                  1\n",
       "Mineff, Mr. Ivan                                  1\n",
       "Giglio, Mr. Victor                                1\n",
       "Burns, Miss. Elizabeth Margaret                   1\n",
       "Silverthorne, Mr. Spencer Victor                  1\n",
       "Lulic, Mr. Nikola                                 1\n",
       "Palsson, Miss. Stina Viola                        1\n",
       "O'Dwyer, Miss. Ellen \"Nellie\"                     1\n",
       "Norman, Mr. Robert Douglas                        1\n",
       "Ward, Miss. Anna                                  1\n",
       "Asplund, Master. Edvin Rojj Felix                 1\n",
       "Barah, Mr. Hanna Assi                             1\n",
       "Shellard, Mr. Frederick William                   1\n",
       "Rush, Mr. Alfred George John                      1\n",
       "Simmons, Mr. John                                 1\n",
       "Chambers, Mrs. Norman Campbell (Bertha Griggs)    1\n",
       "Name: Name, Length: 891, dtype: int64"
      ]
     },
     "execution_count": 38,
     "metadata": {},
     "output_type": "execute_result"
    }
   ],
   "source": [
    "dataset[\"Name\"].value_counts()"
   ]
  },
  {
   "cell_type": "code",
   "execution_count": 39,
   "metadata": {
    "collapsed": true
   },
   "outputs": [],
   "source": [
    "#since all the names of the people are unique (of course!!)\n",
    "#So, may be they are not that useful"
   ]
  },
  {
   "cell_type": "code",
   "execution_count": 40,
   "metadata": {},
   "outputs": [
    {
     "data": {
      "text/plain": [
       "0             A/5 21171\n",
       "1              PC 17599\n",
       "2      STON/O2. 3101282\n",
       "3                113803\n",
       "4                373450\n",
       "5                330877\n",
       "6                 17463\n",
       "7                349909\n",
       "8                347742\n",
       "9                237736\n",
       "10              PP 9549\n",
       "11               113783\n",
       "12            A/5. 2151\n",
       "13               347082\n",
       "14               350406\n",
       "15               248706\n",
       "16               382652\n",
       "17               244373\n",
       "18               345763\n",
       "19                 2649\n",
       "20               239865\n",
       "21               248698\n",
       "22               330923\n",
       "23               113788\n",
       "24               349909\n",
       "25               347077\n",
       "26                 2631\n",
       "27                19950\n",
       "28               330959\n",
       "29               349216\n",
       "             ...       \n",
       "861               28134\n",
       "862               17466\n",
       "863            CA. 2343\n",
       "864              233866\n",
       "865              236852\n",
       "866       SC/PARIS 2149\n",
       "867            PC 17590\n",
       "868              345777\n",
       "869              347742\n",
       "870              349248\n",
       "871               11751\n",
       "872                 695\n",
       "873              345765\n",
       "874           P/PP 3381\n",
       "875                2667\n",
       "876                7534\n",
       "877              349212\n",
       "878              349217\n",
       "879               11767\n",
       "880              230433\n",
       "881              349257\n",
       "882                7552\n",
       "883    C.A./SOTON 34068\n",
       "884     SOTON/OQ 392076\n",
       "885              382652\n",
       "886              211536\n",
       "887              112053\n",
       "888          W./C. 6607\n",
       "889              111369\n",
       "890              370376\n",
       "Name: Ticket, Length: 891, dtype: object"
      ]
     },
     "execution_count": 40,
     "metadata": {},
     "output_type": "execute_result"
    }
   ],
   "source": [
    "#let's see ticket\n",
    "dataset[\"Ticket\"]"
   ]
  },
  {
   "cell_type": "code",
   "execution_count": 41,
   "metadata": {
    "collapsed": true
   },
   "outputs": [],
   "source": [
    "#Since we know the pclass, fare of the ticket it's very much likely that Ticket is pretty much useless"
   ]
  },
  {
   "cell_type": "code",
   "execution_count": 42,
   "metadata": {},
   "outputs": [
    {
     "data": {
      "text/plain": [
       "G6             4\n",
       "B96 B98        4\n",
       "C23 C25 C27    4\n",
       "D              3\n",
       "C22 C26        3\n",
       "F2             3\n",
       "E101           3\n",
       "F33            3\n",
       "B5             2\n",
       "C68            2\n",
       "C52            2\n",
       "B49            2\n",
       "C125           2\n",
       "B58 B60        2\n",
       "E44            2\n",
       "E25            2\n",
       "C78            2\n",
       "C126           2\n",
       "C92            2\n",
       "D20            2\n",
       "F4             2\n",
       "E24            2\n",
       "B18            2\n",
       "B77            2\n",
       "B51 B53 B55    2\n",
       "C123           2\n",
       "E33            2\n",
       "B22            2\n",
       "C2             2\n",
       "D26            2\n",
       "              ..\n",
       "A16            1\n",
       "D6             1\n",
       "E77            1\n",
       "E17            1\n",
       "D30            1\n",
       "E12            1\n",
       "B94            1\n",
       "D50            1\n",
       "C104           1\n",
       "C70            1\n",
       "A34            1\n",
       "A23            1\n",
       "A31            1\n",
       "A7             1\n",
       "B69            1\n",
       "D48            1\n",
       "E63            1\n",
       "B19            1\n",
       "C45            1\n",
       "C46            1\n",
       "C99            1\n",
       "D21            1\n",
       "D11            1\n",
       "C47            1\n",
       "E46            1\n",
       "B79            1\n",
       "E50            1\n",
       "E10            1\n",
       "C91            1\n",
       "B3             1\n",
       "Name: Cabin, Length: 147, dtype: int64"
      ]
     },
     "execution_count": 42,
     "metadata": {},
     "output_type": "execute_result"
    }
   ],
   "source": [
    "#let's see Cabin\n",
    "dataset[\"Cabin\"].value_counts()"
   ]
  },
  {
   "cell_type": "code",
   "execution_count": 43,
   "metadata": {
    "collapsed": true
   },
   "outputs": [],
   "source": [
    "#instead of Cabin number and all all we need is the Cabin Deck i.e. Only alphabetical letter no numbers\n",
    "#check on https://www.encyclopedia-titanica.org/cabins.html\n",
    "#so cabin deck is simply\n",
    "dataset[\"Cabin_Deck\"]=[i for i in map(lambda x: x[0] if type(x)==str else 'U' , dataset[\"Cabin\"])]"
   ]
  },
  {
   "cell_type": "code",
   "execution_count": 44,
   "metadata": {},
   "outputs": [
    {
     "data": {
      "text/plain": [
       "U    687\n",
       "C     59\n",
       "B     47\n",
       "D     33\n",
       "E     32\n",
       "A     15\n",
       "F     13\n",
       "G      4\n",
       "T      1\n",
       "Name: Cabin_Deck, dtype: int64"
      ]
     },
     "execution_count": 44,
     "metadata": {},
     "output_type": "execute_result"
    }
   ],
   "source": [
    "dataset[\"Cabin_Deck\"].value_counts()"
   ]
  },
  {
   "cell_type": "code",
   "execution_count": 45,
   "metadata": {
    "collapsed": true
   },
   "outputs": [],
   "source": [
    "dict_cabin={'U': 0, 'A': 1, 'B':2, 'C':3, 'D':4, 'E':5, 'F':6, 'G':7, 'T':8}"
   ]
  },
  {
   "cell_type": "code",
   "execution_count": 46,
   "metadata": {
    "collapsed": true
   },
   "outputs": [],
   "source": [
    "dataset[\"Cabin_num\"]=[dict_cabin[i] for i in dataset[\"Cabin_Deck\"]]"
   ]
  },
  {
   "cell_type": "code",
   "execution_count": 47,
   "metadata": {},
   "outputs": [
    {
     "name": "stdout",
     "output_type": "stream",
     "text": [
      "Survived               1.000000\n",
      "Sex_num                0.543351\n",
      "Pclass_Reverse         0.338481\n",
      "Cabin_num              0.287944\n",
      "FarePerClass           0.267627\n",
      "Fare_scaled            0.257307\n",
      "Fare                   0.257307\n",
      "FarePerClass_scaled    0.236253\n",
      "Parch                  0.081629\n",
      "PassengerId           -0.005007\n",
      "SibSp                 -0.035322\n",
      "Age                   -0.077221\n",
      "Pclass                -0.338481\n",
      "Name: Survived, dtype: float64\n"
     ]
    }
   ],
   "source": [
    "#let's see the corr_matrix\n",
    "corr_matrix=dataset.corr()\n",
    "print(corr_matrix[\"Survived\"].sort_values(ascending=False))"
   ]
  },
  {
   "cell_type": "code",
   "execution_count": 48,
   "metadata": {
    "collapsed": true
   },
   "outputs": [],
   "source": [
    "dataset[\"Age\"].fillna(value=dataset[\"Age\"].mean(),inplace=True)"
   ]
  },
  {
   "cell_type": "code",
   "execution_count": 49,
   "metadata": {},
   "outputs": [
    {
     "name": "stdout",
     "output_type": "stream",
     "text": [
      "Survived               1.000000\n",
      "Sex_num                0.543351\n",
      "Pclass_Reverse         0.338481\n",
      "Cabin_num              0.287944\n",
      "FarePerClass           0.267627\n",
      "Fare_scaled            0.257307\n",
      "Fare                   0.257307\n",
      "FarePerClass_scaled    0.236253\n",
      "Parch                  0.081629\n",
      "PassengerId           -0.005007\n",
      "SibSp                 -0.035322\n",
      "Age                   -0.069809\n",
      "Pclass                -0.338481\n",
      "Name: Survived, dtype: float64\n"
     ]
    }
   ],
   "source": [
    "#let's see the corr_matrix\n",
    "corr_matrix=dataset.corr()\n",
    "print(corr_matrix[\"Survived\"].sort_values(ascending=False))"
   ]
  },
  {
   "cell_type": "code",
   "execution_count": 50,
   "metadata": {
    "collapsed": true
   },
   "outputs": [],
   "source": [
    "dataset[\"Embarked\"].value_counts()\n",
    "dict_embarked={'S':0,'C':1,'Q':2}"
   ]
  },
  {
   "cell_type": "code",
   "execution_count": 51,
   "metadata": {
    "collapsed": true
   },
   "outputs": [],
   "source": [
    "dataset[\"Embarked_num\"]=[i for i in map(lambda x: dict_embarked[x] if type(x) is str else -1,dataset[\"Embarked\"])]"
   ]
  },
  {
   "cell_type": "code",
   "execution_count": 52,
   "metadata": {},
   "outputs": [
    {
     "name": "stdout",
     "output_type": "stream",
     "text": [
      "Survived               1.000000\n",
      "Sex_num                0.543351\n",
      "Pclass_Reverse         0.338481\n",
      "Cabin_num              0.287944\n",
      "FarePerClass           0.267627\n",
      "Fare_scaled            0.257307\n",
      "Fare                   0.257307\n",
      "FarePerClass_scaled    0.236253\n",
      "Embarked_num           0.101849\n",
      "Parch                  0.081629\n",
      "PassengerId           -0.005007\n",
      "SibSp                 -0.035322\n",
      "Age                   -0.069809\n",
      "Pclass                -0.338481\n",
      "Name: Survived, dtype: float64\n"
     ]
    }
   ],
   "source": [
    "#let's see the corr_matrix\n",
    "corr_matrix=dataset.corr()\n",
    "print(corr_matrix[\"Survived\"].sort_values(ascending=False))"
   ]
  },
  {
   "cell_type": "code",
   "execution_count": 53,
   "metadata": {},
   "outputs": [
    {
     "name": "stdout",
     "output_type": "stream",
     "text": [
      "<class 'pandas.core.frame.DataFrame'>\n",
      "RangeIndex: 891 entries, 0 to 890\n",
      "Data columns (total 21 columns):\n",
      "PassengerId            891 non-null int64\n",
      "Survived               891 non-null int64\n",
      "Pclass                 891 non-null int64\n",
      "Name                   891 non-null object\n",
      "Sex                    891 non-null object\n",
      "Age                    891 non-null float64\n",
      "SibSp                  891 non-null int64\n",
      "Parch                  891 non-null int64\n",
      "Ticket                 891 non-null object\n",
      "Fare                   891 non-null float64\n",
      "Cabin                  204 non-null object\n",
      "Embarked               889 non-null object\n",
      "FarePerClass           891 non-null float64\n",
      "Fare_scaled            891 non-null float64\n",
      "FarePerClass_scaled    891 non-null float64\n",
      "Pclass_Reverse         891 non-null int64\n",
      "Sex_num                891 non-null int64\n",
      "Name_Extract           891 non-null object\n",
      "Cabin_Deck             891 non-null object\n",
      "Cabin_num              891 non-null int64\n",
      "Embarked_num           891 non-null int64\n",
      "dtypes: float64(5), int64(9), object(7)\n",
      "memory usage: 146.3+ KB\n"
     ]
    }
   ],
   "source": [
    "dataset.info()"
   ]
  },
  {
   "cell_type": "code",
   "execution_count": 54,
   "metadata": {},
   "outputs": [
    {
     "name": "stdout",
     "output_type": "stream",
     "text": [
      "14\n"
     ]
    }
   ],
   "source": [
    "dataset[\"Age\"]\n",
    "count=0\n",
    "for i in dataset[\"Age\"]:\n",
    "    if i<=1.0:\n",
    "        count+=1\n",
    "print(count)"
   ]
  },
  {
   "cell_type": "code",
   "execution_count": 55,
   "metadata": {
    "collapsed": true
   },
   "outputs": [],
   "source": [
    "#Now that we have seen all the attributes we have concluded\n",
    "#PassendgerId is irrelevant\n",
    "#Pclass is very important ( A good correlation if reversed)\n",
    "#Name not that important\n",
    "#Sex the most imortant convert to numerical male 0 and female 1\n",
    "#let's leave Age (for Now!)\n",
    "#SibSp is least correlated Guess have to leave it for linear regression\n",
    "#Parch is same leave it for linear regression only!\n",
    "#Ticket is unique pretty much useless\n",
    "#Fare is ok standardize it that's it\n",
    "#Cabin in Cabin_num is fine\n",
    "#Embarked in Embarked_num is also doing good"
   ]
  },
  {
   "cell_type": "code",
   "execution_count": 56,
   "metadata": {
    "collapsed": true
   },
   "outputs": [],
   "source": [
    "#So here's the pipeline of linear regression\n",
    "#First let's make the DataFrameSelector , it's pretty useful\n",
    "\n",
    "class DataFrameSelector(BaseEstimator,TransformerMixin):\n",
    "    \n",
    "    def __init__(self,attrib_names):\n",
    "        self.attributes=attrib_names\n",
    "        \n",
    "    def fit(self,X,y=None):\n",
    "        return self\n",
    "    \n",
    "    def transform(self,X,y=None):\n",
    "        return X[self.attributes]"
   ]
  },
  {
   "cell_type": "code",
   "execution_count": 57,
   "metadata": {
    "collapsed": true
   },
   "outputs": [],
   "source": [
    "#transform pclass and fare\n",
    "class TransformPclassAndFare(BaseEstimator,TransformerMixin):\n",
    "    \n",
    "    def __init__(self):\n",
    "        pass\n",
    "    \n",
    "    def fit(self,X,y=None):\n",
    "        return self\n",
    "    \n",
    "    def transform(self,X,y=None):\n",
    "        X[:,0]=2-X[:,0]\n",
    "        X[:,1]=(X[:,1]-X[:,1].mean())/X[:,1].std()\n",
    "        \n",
    "        return X"
   ]
  },
  {
   "cell_type": "code",
   "execution_count": 58,
   "metadata": {
    "collapsed": true
   },
   "outputs": [],
   "source": [
    "#then we will use the imputer and after that standard scaler \n",
    "#so here's the numerical pipeline\n",
    "important_num_attribs=['Pclass','Fare']\n",
    "num_pipeline=Pipeline([('selector',DataFrameSelector(important_num_attribs)),\n",
    "                       ('imputer',Imputer(strategy='mean')),\n",
    "                       ('transfrom', TransformPclassAndFare())\n",
    "                      ])"
   ]
  },
  {
   "cell_type": "code",
   "execution_count": 59,
   "metadata": {
    "collapsed": true
   },
   "outputs": [],
   "source": [
    "#Now let's create the category pipeline\n",
    "#First is the Data Selector itself \n",
    "important_class_attribs=['Sex','Cabin','Embarked']\n",
    "#Now let's fill Cabin and Embarked"
   ]
  },
  {
   "cell_type": "code",
   "execution_count": 60,
   "metadata": {
    "collapsed": true
   },
   "outputs": [],
   "source": [
    "check=0\n",
    "class FillAndTransformCabinAndEmbarked(BaseEstimator,TransformerMixin):\n",
    "    \n",
    "    dict_cabin={'U': 0, 'A': 1, 'B':2, 'C':3, 'D':4, 'E':5, 'F':6, 'G':7, 'T':8}\n",
    "    dict_embarked={'S':0,'C':1,'Q':2}\n",
    "    def __int__(self):\n",
    "        pass\n",
    "    \n",
    "    \n",
    "    def fit(self,X,y=None):\n",
    "        return self\n",
    "    \n",
    "    def transform(self,X,y=None):\n",
    "        \n",
    "        list_cabin=[i for i in map(lambda x: x[0] if type(x)==str else 'U' , X[\"Cabin\"])]\n",
    "        list_cabin=[dict_cabin[i] for i in list_cabin]\n",
    "        #Transformed Cabin_num\n",
    "        \n",
    "        list_embarked=[i for i in map(lambda x: dict_embarked[x] if type(x) is str else -1,X[\"Embarked\"])]\n",
    "        #Transformed  Embarked\n",
    "        \n",
    "        list_sex=[i for i in map(lambda x: 0 if x=='male' else 1 , X[\"Sex\"])]\n",
    "        \n",
    "        data=np.asarray([list_sex,list_cabin,list_embarked]).T\n",
    "        \n",
    "        return pd.DataFrame(data=data,columns=[\"Sex\",\"Cabin\",\"embarked\"])\n",
    "\n",
    "Transform_Cat=FillAndTransformCabinAndEmbarked()"
   ]
  },
  {
   "cell_type": "code",
   "execution_count": 61,
   "metadata": {
    "collapsed": true
   },
   "outputs": [],
   "source": [
    "#now that all of it has been lablled let's complete the pipeline\n",
    "cat_pipeline=Pipeline([('selector',DataFrameSelector(important_class_attribs)),\n",
    "                       ('transform_at',Transform_Cat) \n",
    "                      ])"
   ]
  },
  {
   "cell_type": "code",
   "execution_count": 62,
   "metadata": {
    "collapsed": true
   },
   "outputs": [],
   "source": [
    "linear_reg_pipeline=FeatureUnion(transformer_list=[\n",
    "    ('numerical',num_pipeline),\n",
    "    ('categorial',cat_pipeline)\n",
    "])"
   ]
  },
  {
   "cell_type": "code",
   "execution_count": 278,
   "metadata": {
    "collapsed": true
   },
   "outputs": [],
   "source": [
    "#Now let's reload the data back U Know to start\n",
    "dataset=pd.read_csv('./train.csv')"
   ]
  },
  {
   "cell_type": "code",
   "execution_count": 279,
   "metadata": {
    "collapsed": true
   },
   "outputs": [],
   "source": [
    "X_train=dataset.drop('Survived',axis=1)"
   ]
  },
  {
   "cell_type": "code",
   "execution_count": 280,
   "metadata": {
    "collapsed": true
   },
   "outputs": [],
   "source": [
    "y_train=dataset[\"Survived\"]"
   ]
  },
  {
   "cell_type": "code",
   "execution_count": 66,
   "metadata": {
    "collapsed": true
   },
   "outputs": [],
   "source": [
    "X_train_prepared=linear_reg_pipeline.fit_transform(X_train)"
   ]
  },
  {
   "cell_type": "code",
   "execution_count": 67,
   "metadata": {},
   "outputs": [
    {
     "name": "stdout",
     "output_type": "stream",
     "text": [
      "<class 'numpy.ndarray'>\n"
     ]
    }
   ],
   "source": [
    "print(type(X_train_prepared))"
   ]
  },
  {
   "cell_type": "code",
   "execution_count": 68,
   "metadata": {},
   "outputs": [
    {
     "name": "stdout",
     "output_type": "stream",
     "text": [
      "(891, 5)\n"
     ]
    }
   ],
   "source": [
    "print(X_train_prepared.shape)"
   ]
  },
  {
   "cell_type": "code",
   "execution_count": 69,
   "metadata": {
    "collapsed": true
   },
   "outputs": [],
   "source": [
    "#let's train it on linear regression"
   ]
  },
  {
   "cell_type": "code",
   "execution_count": 70,
   "metadata": {
    "collapsed": true
   },
   "outputs": [],
   "source": [
    "log_reg=LogisticRegression()"
   ]
  },
  {
   "cell_type": "code",
   "execution_count": 71,
   "metadata": {},
   "outputs": [
    {
     "data": {
      "text/plain": [
       "LogisticRegression(C=1.0, class_weight=None, dual=False, fit_intercept=True,\n",
       "          intercept_scaling=1, max_iter=100, multi_class='ovr', n_jobs=1,\n",
       "          penalty='l2', random_state=None, solver='liblinear', tol=0.0001,\n",
       "          verbose=0, warm_start=False)"
      ]
     },
     "execution_count": 71,
     "metadata": {},
     "output_type": "execute_result"
    }
   ],
   "source": [
    "log_reg.fit(X_train_prepared,y_train)"
   ]
  },
  {
   "cell_type": "code",
   "execution_count": 72,
   "metadata": {
    "collapsed": true
   },
   "outputs": [],
   "source": [
    "y_train_pred=log_reg.predict(X_train_prepared)"
   ]
  },
  {
   "cell_type": "code",
   "execution_count": 73,
   "metadata": {},
   "outputs": [
    {
     "name": "stdout",
     "output_type": "stream",
     "text": [
      "0.461783008108\n"
     ]
    }
   ],
   "source": [
    "error=mean_squared_error(y_train_pred,y_train)\n",
    "print(np.sqrt(error))"
   ]
  },
  {
   "cell_type": "code",
   "execution_count": 74,
   "metadata": {},
   "outputs": [
    {
     "name": "stdout",
     "output_type": "stream",
     "text": [
      "0.213243546577\n"
     ]
    }
   ],
   "source": [
    "print(mean_absolute_error(y_train,y_train_pred))"
   ]
  },
  {
   "cell_type": "code",
   "execution_count": 75,
   "metadata": {},
   "outputs": [
    {
     "name": "stdout",
     "output_type": "stream",
     "text": [
      "190\n"
     ]
    }
   ],
   "source": [
    "print(np.abs(y_train-y_train_pred).sum())"
   ]
  },
  {
   "cell_type": "code",
   "execution_count": 76,
   "metadata": {},
   "outputs": [
    {
     "name": "stdout",
     "output_type": "stream",
     "text": [
      "0.2132435465768799\n"
     ]
    }
   ],
   "source": [
    "print(190/891)"
   ]
  },
  {
   "cell_type": "code",
   "execution_count": 77,
   "metadata": {
    "collapsed": true
   },
   "outputs": [],
   "source": [
    "#80% accuracy :(\n",
    "#not so good let's use RandomForestClassifier"
   ]
  },
  {
   "cell_type": "code",
   "execution_count": 78,
   "metadata": {
    "collapsed": true
   },
   "outputs": [],
   "source": [
    "for_reg=RandomForestClassifier(random_state=50)"
   ]
  },
  {
   "cell_type": "code",
   "execution_count": 79,
   "metadata": {},
   "outputs": [
    {
     "data": {
      "text/plain": [
       "RandomForestClassifier(bootstrap=True, class_weight=None, criterion='gini',\n",
       "            max_depth=None, max_features='auto', max_leaf_nodes=None,\n",
       "            min_impurity_split=1e-07, min_samples_leaf=1,\n",
       "            min_samples_split=2, min_weight_fraction_leaf=0.0,\n",
       "            n_estimators=10, n_jobs=1, oob_score=False, random_state=50,\n",
       "            verbose=0, warm_start=False)"
      ]
     },
     "execution_count": 79,
     "metadata": {},
     "output_type": "execute_result"
    }
   ],
   "source": [
    "for_reg.fit(X_train_prepared,y_train)"
   ]
  },
  {
   "cell_type": "code",
   "execution_count": 80,
   "metadata": {
    "collapsed": true
   },
   "outputs": [],
   "source": [
    "y_train_pred=log_reg.predict(X_train_prepared)"
   ]
  },
  {
   "cell_type": "code",
   "execution_count": 81,
   "metadata": {},
   "outputs": [
    {
     "name": "stdout",
     "output_type": "stream",
     "text": [
      "190\n"
     ]
    }
   ],
   "source": [
    "print(np.abs(y_train-y_train_pred).sum())"
   ]
  },
  {
   "cell_type": "code",
   "execution_count": 82,
   "metadata": {},
   "outputs": [
    {
     "name": "stdout",
     "output_type": "stream",
     "text": [
      "[0 1 1 1 0 0 1 0 1 1 1 1 0 0 1 1 0 0 1 1 0 0 1 0 1 1 0 0 1 0 0 1 1 0 0 0 0\n",
      " 0 1 1 1 1 0 1 1 0 0 1 0 1 0 0 1 1 0 0 1 0 1 0 0 1 0 0 0 0 1 0 1 0 0 1 0 0\n",
      " 0 0 0 0 0 1 0 0 1 0 1 1 0 0 1 0 0 0 1 0 0 0 0 1 1 0 1 0 0 0 0 0 1 0 0 1 0\n",
      " 1 0 1 1 0 0 0 1 1 0 0 0 1 0 0 0 0 1 0 0 0 1 1 0 0 1 0 0 0 1 1 1 0 0 0 0 1\n",
      " 0 0 0 1 0 0 0 0 1 0 0 0 0 1 0 0 0 0 1 1 0 0 0 0 1 0 0 0 0 1 0 0 1 0 0 0 1\n",
      " 0 1 0 0 0 1 0 1 0 1 1 0 0 1 1 0 0 0 0 0 1 0 0 1 0 0 1 0 0 0 1 1 0 1 0 0 0\n",
      " 0 0 0 0 0 0 0 1 1 0 0 1 0 1 0 1 0 0 1 1 0 0 0 1 1 1 0 0 0 1 0 0 1 1 1 1 1\n",
      " 1 0 0 1 0 1 0 0 0 1 1 0 0 1 1 1 1 1 0 0 1 0 0 0 0 0 0 0 0 0 1 1 1 0 1 0 0\n",
      " 0 1 0 1 1 0 0 1 0 0 1 1 0 1 1 1 1 0 0 1 1 0 1 1 0 0 1 1 0 1 0 1 1 1 1 0 0\n",
      " 0 1 0 0 1 0 1 0 1 0 0 0 1 1 1 0 0 0 0 0 0 0 0 1 1 1 1 0 0 1 0 0 0 1 1 1 1\n",
      " 1 0 0 0 1 1 1 1 0 0 1 1 0 1 0 0 0 1 0 1 0 0 0 1 1 0 1 0 0 1 0 0 1 0 1 0 0\n",
      " 0 0 1 0 0 1 0 0 1 1 1 0 1 0 0 0 1 0 0 1 1 0 0 0 1 1 0 1 1 1 1 0 0 1 0 0 1\n",
      " 0 0 1 0 1 0 0 0 1 1 0 0 1 1 1 0 1 0 1 0 0 0 0 0 0 1 0 0 1 1 1 0 0 0 0 1 0\n",
      " 0 0 1 0 1 1 0 0 0 0 0 0 0 0 0 1 0 1 0 0 1 1 1 1 1 1 0 0 0 0 0 1 1 0 0 1 0\n",
      " 1 0 1 0 0 1 0 0 1 0 0 0 1 0 0 1 1 1 0 1 0 1 1 1 1 0 1 0 1 0 0 0 1 0 0 0 1\n",
      " 0 1 0 1 1 0 0 0 0 1 0 0 1 0 0 0 1 1 1 0 0 1 1 1 0 1 1 0 0 0 1 0 0 0 0 0 1\n",
      " 0 1 0 0 1 0 0 0 1 0 0 0 0 0 0 0 1 1 1 0 1 0 0 1 0 1 1 0 0 0 0 0 0 0 0 1 0\n",
      " 0 0 0 0 0 1 1 0 0 1 0 0 1 1 0 1 1 0 0 0 1 0 1 0 1 1 0 0 1 0 1 0 0 1 0 0 0\n",
      " 0 0 0 1 1 0 0 0 0 0 0 1 1 1 1 1 0 0 0 0 0 0 0 1 0 1 0 0 0 0 0 1 1 0 1 1 1\n",
      " 0 0 0 1 1 1 0 1 0 0 0 0 0 1 1 0 0 1 0 0 0 1 0 1 1 0 1 1 0 0 0 0 0 1 1 0 0\n",
      " 0 0 1 0 0 0 0 1 0 0 1 0 0 0 1 0 0 0 0 1 0 0 0 1 0 1 0 1 0 0 0 0 1 0 1 0 0\n",
      " 1 0 1 1 1 0 0 0 0 1 0 0 0 0 0 1 0 0 0 1 1 0 1 0 1 0 0 0 0 0 1 0 1 0 0 0 1\n",
      " 0 0 1 0 0 0 1 0 0 1 0 0 0 0 0 1 1 0 0 0 0 1 0 0 0 1 0 0 1 0 0 0 0 0 0 1 0\n",
      " 0 1 1 1 1 1 1 1 0 0 0 1 1 0 1 1 0 0 0 0 1 0 0 1 1 0 0 0 1 1 0 1 0 0 1 0 1\n",
      " 1 1 0]\n"
     ]
    }
   ],
   "source": [
    "print(y_train_pred)"
   ]
  },
  {
   "cell_type": "code",
   "execution_count": 83,
   "metadata": {},
   "outputs": [
    {
     "name": "stdout",
     "output_type": "stream",
     "text": [
      "[0, 1, 1, 1, 0, 0, 0, 0, 1, 1, 1, 1, 0, 0, 0, 1, 0, 1, 0, 1, 0, 1, 1, 1, 0, 1, 0, 0, 1, 0, 0, 1, 1, 0, 0, 0, 1, 0, 0, 1, 0, 0, 0, 1, 1, 0, 0, 1, 0, 0, 0, 0, 1, 1, 0, 1, 1, 0, 1, 0, 0, 1, 0, 0, 0, 1, 1, 0, 1, 0, 0, 0, 0, 0, 1, 0, 0, 0, 1, 1, 0, 1, 1, 0, 1, 1, 0, 0, 1, 0, 0, 0, 0, 0, 0, 0, 0, 1, 1, 0, 0, 0, 0, 0, 0, 0, 1, 1, 0, 1, 0, 0, 0, 0, 0, 0, 0, 0, 0, 0, 0, 0, 0, 1, 0, 1, 0, 1, 1, 0, 0, 0, 0, 1, 0, 0, 1, 0, 0, 0, 0, 1, 1, 0, 0, 0, 1, 0, 0, 0, 0, 1, 0, 0, 0, 0, 1, 0, 0, 0, 0, 1, 0, 0, 0, 1, 1, 0, 0, 0, 0, 0, 1, 0, 0, 0, 0, 0, 0, 0, 0, 0, 0, 1, 1, 0, 1, 1, 0, 0, 1, 0, 1, 1, 1, 1, 0, 0, 1, 0, 0, 0, 0, 0, 1, 0, 0, 1, 1, 1, 0, 1, 0, 0, 0, 1, 1, 0, 1, 0, 1, 0, 0, 0, 1, 0, 1, 0, 0, 0, 1, 0, 0, 1, 0, 0, 0, 1, 0, 0, 0, 1, 0, 0, 0, 0, 0, 1, 1, 0, 0, 0, 0, 0, 0, 1, 1, 1, 1, 1, 0, 1, 0, 0, 0, 0, 0, 1, 1, 1, 0, 1, 1, 0, 1, 1, 0, 0, 0, 1, 0, 0, 0, 1, 0, 0, 1, 0, 1, 1, 1, 1, 0, 0, 0, 0, 0, 0, 1, 1, 1, 1, 0, 1, 0, 1, 1, 1, 0, 1, 1, 1, 0, 0, 0, 1, 1, 0, 1, 1, 0, 0, 1, 1, 0, 1, 0, 1, 1, 1, 1, 0, 0, 0, 1, 0, 0, 1, 1, 0, 1, 1, 0, 0, 0, 1, 1, 1, 1, 0, 0, 0, 0, 0, 0, 0, 1, 0, 1, 1, 0, 0, 0, 0, 0, 0, 1, 1, 1, 1, 1, 0, 0, 0, 0, 1, 1, 0, 0, 0, 1, 1, 0, 1, 0, 0, 0, 1, 0, 1, 1, 1, 0, 1, 1, 0, 0, 0, 0, 1, 1, 0, 0, 0, 0, 0, 0, 1, 0, 0, 0, 0, 1, 0, 1, 0, 1, 1, 0, 0, 0, 0, 0, 0, 0, 0, 1, 1, 0, 1, 1, 1, 1, 0, 0, 1, 0, 1, 0, 0, 1, 0, 0, 1, 1, 1, 1, 1, 1, 1, 0, 0, 0, 1, 0, 1, 0, 1, 1, 0, 1, 0, 0, 0, 0, 0, 0, 0, 0, 1, 0, 0, 1, 1, 0, 0, 0, 0, 0, 1, 0, 0, 0, 1, 1, 0, 1, 0, 0, 1, 0, 0, 0, 0, 0, 0, 1, 0, 0, 0, 0, 0, 0, 0, 1, 0, 1, 1, 0, 1, 1, 0, 1, 1, 0, 0, 1, 0, 1, 0, 1, 0, 0, 1, 0, 0, 1, 0, 0, 0, 1, 0, 0, 1, 0, 1, 0, 1, 0, 1, 1, 0, 0, 1, 0, 0, 1, 1, 0, 1, 1, 0, 0, 1, 1, 0, 1, 0, 1, 1, 0, 0, 0, 0, 0, 0, 0, 0, 0, 1, 1, 1, 1, 1, 0, 0, 1, 1, 0, 1, 1, 1, 0, 0, 0, 1, 0, 1, 0, 0, 0, 1, 0, 0, 0, 0, 1, 0, 0, 1, 1, 0, 0, 0, 1, 0, 0, 1, 1, 1, 0, 0, 1, 0, 0, 1, 0, 0, 1, 0, 0, 1, 1, 0, 0, 0, 0, 1, 0, 0, 1, 0, 1, 0, 0, 1, 0, 0, 0, 0, 0, 1, 0, 1, 1, 1, 0, 1, 0, 1, 0, 1, 0, 1, 0, 0, 0, 0, 0, 0, 1, 0, 0, 0, 1, 0, 0, 0, 0, 1, 1, 0, 0, 1, 0, 0, 0, 1, 0, 1, 0, 1, 0, 0, 0, 0, 0, 0, 0, 1, 1, 1, 1, 0, 0, 0, 0, 1, 0, 0, 1, 1, 0, 0, 0, 0, 1, 1, 1, 1, 1, 0, 1, 0, 0, 0, 1, 1, 0, 0, 1, 0, 0, 0, 1, 0, 1, 1, 0, 0, 1, 0, 0, 0, 0, 0, 0, 1, 0, 0, 1, 0, 1, 0, 1, 0, 0, 1, 0, 0, 1, 1, 0, 0, 1, 1, 0, 0, 0, 1, 0, 0, 1, 1, 0, 1, 0, 0, 0, 0, 0, 0, 0, 0, 1, 0, 0, 1, 0, 1, 1, 1, 0, 0, 0, 0, 1, 0, 1, 0, 0, 0, 0, 0, 0, 0, 1, 1, 0, 0, 0, 1, 1, 1, 1, 0, 0, 0, 0, 1, 0, 0, 0, 0, 0, 0, 0, 0, 0, 0, 1, 1, 0, 1, 0, 0, 0, 1, 1, 1, 1, 1, 0, 0, 0, 1, 0, 0, 1, 1, 0, 0, 1, 0, 0, 0, 0, 0, 0, 1, 0, 0, 0, 1, 0, 1, 1, 1, 1, 0, 0, 0, 1, 0, 0, 1, 1, 0, 0, 1, 0, 1, 0, 0, 1, 1, 0, 0, 0, 1, 1, 0, 0, 0, 0, 0, 0, 1, 0, 1, 0]\n"
     ]
    }
   ],
   "source": [
    "print(list(y_train))"
   ]
  },
  {
   "cell_type": "code",
   "execution_count": 84,
   "metadata": {
    "collapsed": true
   },
   "outputs": [],
   "source": [
    "#let's use Cross Validation\n",
    "CV_lin=cross_val_score(estimator=log_reg,cv=3,scoring='neg_mean_absolute_error',X=X_train_prepared,y=y_train)"
   ]
  },
  {
   "cell_type": "code",
   "execution_count": 85,
   "metadata": {},
   "outputs": [
    {
     "name": "stdout",
     "output_type": "stream",
     "text": [
      "[ 0.23905724  0.21885522  0.22895623]\n"
     ]
    }
   ],
   "source": [
    "print(-CV_lin)"
   ]
  },
  {
   "cell_type": "code",
   "execution_count": 86,
   "metadata": {
    "collapsed": true
   },
   "outputs": [],
   "source": [
    "#let's grid search the best linear regression i.e. find the best params\n",
    "#class_weight\n",
    "#Solver {'newton-cg', 'lbfgs', 'liblinear', 'sag'} can take these values check between newton and liblinear\n",
    "#multiclass ovr or ovo. (one vs rest or one vs one)"
   ]
  },
  {
   "cell_type": "code",
   "execution_count": 87,
   "metadata": {},
   "outputs": [
    {
     "name": "stdout",
     "output_type": "stream",
     "text": [
      "[[-1.         -0.50244517  0.          0.          0.        ]\n",
      " [ 1.          0.78684529  1.          3.          1.        ]\n",
      " [-1.         -0.48885426  1.          0.          0.        ]\n",
      " ..., \n",
      " [-1.         -0.17626324  1.          0.          0.        ]\n",
      " [ 1.         -0.04438104  0.          3.          1.        ]\n",
      " [-1.         -0.49237783  0.          0.          2.        ]]\n",
      "Pclass  Fare Sex Cabin Embarked\n"
     ]
    }
   ],
   "source": [
    "print(X_train_prepared)\n",
    "print(\"Pclass  Fare Sex Cabin Embarked\")"
   ]
  },
  {
   "cell_type": "code",
   "execution_count": 88,
   "metadata": {
    "collapsed": true
   },
   "outputs": [],
   "source": [
    "#let's declare the Parameter grid"
   ]
  },
  {
   "cell_type": "code",
   "execution_count": 89,
   "metadata": {
    "collapsed": true
   },
   "outputs": [],
   "source": [
    "Param_Grid=[\n",
    "    {'fit_intercept': [True,False],'tol': [ 0.00001,0.0001,0.000001],'max_iter':[100,1000,10000]}\n",
    "]"
   ]
  },
  {
   "cell_type": "code",
   "execution_count": 90,
   "metadata": {
    "collapsed": true
   },
   "outputs": [],
   "source": [
    "grid_log=GridSearchCV(estimator=log_reg,param_grid=Param_Grid,scoring='neg_mean_absolute_error',cv=3)"
   ]
  },
  {
   "cell_type": "code",
   "execution_count": 91,
   "metadata": {},
   "outputs": [
    {
     "data": {
      "text/plain": [
       "GridSearchCV(cv=3, error_score='raise',\n",
       "       estimator=LogisticRegression(C=1.0, class_weight=None, dual=False, fit_intercept=True,\n",
       "          intercept_scaling=1, max_iter=100, multi_class='ovr', n_jobs=1,\n",
       "          penalty='l2', random_state=None, solver='liblinear', tol=0.0001,\n",
       "          verbose=0, warm_start=False),\n",
       "       fit_params={}, iid=True, n_jobs=1,\n",
       "       param_grid=[{'fit_intercept': [True, False], 'tol': [1e-05, 0.0001, 1e-06], 'max_iter': [100, 1000, 10000]}],\n",
       "       pre_dispatch='2*n_jobs', refit=True, return_train_score=True,\n",
       "       scoring='neg_mean_absolute_error', verbose=0)"
      ]
     },
     "execution_count": 91,
     "metadata": {},
     "output_type": "execute_result"
    }
   ],
   "source": [
    "grid_log.fit(X=X_train_prepared,y=y_train)"
   ]
  },
  {
   "cell_type": "code",
   "execution_count": 92,
   "metadata": {
    "collapsed": true
   },
   "outputs": [],
   "source": [
    "score=grid_log.cv_results_"
   ]
  },
  {
   "cell_type": "code",
   "execution_count": 93,
   "metadata": {},
   "outputs": [
    {
     "name": "stdout",
     "output_type": "stream",
     "text": [
      "[ 0.22895623  0.22895623  0.22895623  0.22895623  0.22895623  0.22895623\n",
      "  0.22895623  0.22895623  0.22895623  0.29741863  0.29741863  0.29741863\n",
      "  0.29741863  0.29741863  0.29741863  0.29741863  0.29741863  0.29741863]\n"
     ]
    }
   ],
   "source": [
    "print(-score['mean_test_score'])"
   ]
  },
  {
   "cell_type": "code",
   "execution_count": 94,
   "metadata": {},
   "outputs": [
    {
     "data": {
      "text/plain": [
       "LogisticRegression(C=1.0, class_weight=None, dual=False, fit_intercept=True,\n",
       "          intercept_scaling=1, max_iter=100, multi_class='ovr', n_jobs=1,\n",
       "          penalty='l2', random_state=None, solver='liblinear', tol=1e-05,\n",
       "          verbose=0, warm_start=False)"
      ]
     },
     "execution_count": 94,
     "metadata": {},
     "output_type": "execute_result"
    }
   ],
   "source": [
    "grid_log.best_estimator_"
   ]
  },
  {
   "cell_type": "code",
   "execution_count": 95,
   "metadata": {},
   "outputs": [
    {
     "data": {
      "text/plain": [
       "{'fit_intercept': True, 'max_iter': 100, 'tol': 1e-05}"
      ]
     },
     "execution_count": 95,
     "metadata": {},
     "output_type": "execute_result"
    }
   ],
   "source": [
    "grid_log.best_params_"
   ]
  },
  {
   "cell_type": "code",
   "execution_count": 96,
   "metadata": {
    "collapsed": true
   },
   "outputs": [],
   "source": [
    "#let's check for random forests classifier\n",
    "Param_Grid_Forests=[\n",
    "    {'n_estimators': [2,3,4,5],'max_features': [3,4,5]}\n",
    "]"
   ]
  },
  {
   "cell_type": "code",
   "execution_count": 97,
   "metadata": {
    "collapsed": true
   },
   "outputs": [],
   "source": [
    "grid_for=GridSearchCV(estimator=for_reg,param_grid=Param_Grid_Forests,cv=3,scoring='neg_mean_absolute_error')"
   ]
  },
  {
   "cell_type": "code",
   "execution_count": 98,
   "metadata": {},
   "outputs": [
    {
     "data": {
      "text/plain": [
       "GridSearchCV(cv=3, error_score='raise',\n",
       "       estimator=RandomForestClassifier(bootstrap=True, class_weight=None, criterion='gini',\n",
       "            max_depth=None, max_features='auto', max_leaf_nodes=None,\n",
       "            min_impurity_split=1e-07, min_samples_leaf=1,\n",
       "            min_samples_split=2, min_weight_fraction_leaf=0.0,\n",
       "            n_estimators=10, n_jobs=1, oob_score=False, random_state=50,\n",
       "            verbose=0, warm_start=False),\n",
       "       fit_params={}, iid=True, n_jobs=1,\n",
       "       param_grid=[{'n_estimators': [2, 3, 4, 5], 'max_features': [3, 4, 5]}],\n",
       "       pre_dispatch='2*n_jobs', refit=True, return_train_score=True,\n",
       "       scoring='neg_mean_absolute_error', verbose=0)"
      ]
     },
     "execution_count": 98,
     "metadata": {},
     "output_type": "execute_result"
    }
   ],
   "source": [
    "grid_for.fit(X=X_train_prepared,y=y_train)"
   ]
  },
  {
   "cell_type": "code",
   "execution_count": 99,
   "metadata": {},
   "outputs": [
    {
     "data": {
      "text/plain": [
       "RandomForestClassifier(bootstrap=True, class_weight=None, criterion='gini',\n",
       "            max_depth=None, max_features=5, max_leaf_nodes=None,\n",
       "            min_impurity_split=1e-07, min_samples_leaf=1,\n",
       "            min_samples_split=2, min_weight_fraction_leaf=0.0,\n",
       "            n_estimators=4, n_jobs=1, oob_score=False, random_state=50,\n",
       "            verbose=0, warm_start=False)"
      ]
     },
     "execution_count": 99,
     "metadata": {},
     "output_type": "execute_result"
    }
   ],
   "source": [
    "grid_for.best_estimator_"
   ]
  },
  {
   "cell_type": "code",
   "execution_count": 100,
   "metadata": {},
   "outputs": [
    {
     "data": {
      "text/plain": [
       "-0.20650953984287318"
      ]
     },
     "execution_count": 100,
     "metadata": {},
     "output_type": "execute_result"
    }
   ],
   "source": [
    "grid_for.best_score_"
   ]
  },
  {
   "cell_type": "code",
   "execution_count": 101,
   "metadata": {
    "collapsed": true
   },
   "outputs": [],
   "source": [
    "#Guess what??\n",
    "#We are not able to take the accuracy above 80%\n",
    "#let's re-create our dataset and include more attributes"
   ]
  },
  {
   "cell_type": "code",
   "execution_count": 287,
   "metadata": {},
   "outputs": [],
   "source": [
    "#let's create a powerful class so that we can alter any attribute we want\n",
    "#let's first do it for numerical attributes\n",
    "dataset_columns=dataset.drop(['Survived'],axis=1).columns\n",
    "class Transform(BaseEstimator,TransformerMixin):\n",
    "    \n",
    "    \n",
    "    def __init__(self,select_dict={},default=False,list_of_attributes=dataset_columns):\n",
    "        self.attributes=select_dict\n",
    "        \n",
    "        for i in list_of_attributes:\n",
    "            if i not in self.attributes:\n",
    "                self.attributes[i]=default\n",
    "        self.func={\n",
    "            'PassengerId': self._transform_PassengerId, \n",
    "            'Pclass': self._transform_Pclass, \n",
    "            'Name': self._transfrom_Name, \n",
    "            'Sex': self._transform_Sex, \n",
    "            'Age': self._transform_Age, \n",
    "            'SibSp': self._transform_SibSp,\n",
    "            'Parch': self._transfrom_Parch, \n",
    "            'Ticket': self._transform_Ticket, \n",
    "            'Fare': self._transform_Fare, \n",
    "            'Cabin': self._transform_Cabin, \n",
    "            'Embarked': self._transform_Embarked\n",
    "        }\n",
    "        self.Transformed_Data=[]\n",
    "        \n",
    "    def fit(self,X,y=None):\n",
    "        return self\n",
    "    \n",
    "    def _transform_PassengerId(self,X):\n",
    "        #Not much to do!!\n",
    "        return self.Transformed_Data.append(X)\n",
    "    \n",
    "    def _transform_Pclass(self,X):\n",
    "        return self.Transformed_Data.append(4-X)\n",
    "    \n",
    "    def _transfrom_Name(self,X):\n",
    "        Extracted_List=[]\n",
    "        for i in X:\n",
    "            for j in range(len(i)):\n",
    "                if i[j]==',':\n",
    "                    break\n",
    "            Extracted_List.append(i[:j])\n",
    "        #first name extraction done\n",
    "        #Now encoding labels ;) don't want to use LabelEncoder!\n",
    "        labels={}\n",
    "        count=0\n",
    "        for i in range(len(Extracted_List)):\n",
    "            if Extracted_List[i] not in labels:\n",
    "                labels[Extracted_List[i]]=count\n",
    "                count+=1\n",
    "            Extracted_List[i]=labels[Extracted_List[i]]\n",
    "        return self.Transformed_Data.append(pd.DataFrame(data=Extracted_List,columns=['Name']))\n",
    "    \n",
    "    def _transform_Sex(self,X):\n",
    "        Transformed_list=[i for i in map(lambda x: 0 if x=='male' else 1,X)]\n",
    "        return self.Transformed_Data.append(pd.DataFrame(data=Transformed_list,columns=['Sex']))\n",
    "    \n",
    "    def _transform_Age(self,X):\n",
    "        #I don't know about Age yet but let's do something\n",
    "        fill=X.mean()\n",
    "        Age=X.copy()\n",
    "        return self.Transformed_Data.append(Age.fillna(fill))\n",
    "    \n",
    "    def _transform_SibSp(self,X):\n",
    "        #Not much to do \n",
    "        return self.Transformed_Data.append(X)\n",
    "    \n",
    "    def _transfrom_Parch(self,X):\n",
    "        #Here as well!! Not much to do\n",
    "        return self.Transformed_Data.append(X)\n",
    "    \n",
    "    def _transform_Ticket(self,X):\n",
    "        Ticket_list=[]\n",
    "        labels={}\n",
    "        count=0\n",
    "        for i in X:\n",
    "            if i not in labels:\n",
    "                labels[i]=count\n",
    "                count+=1\n",
    "            Ticket_list.append(labels[i])\n",
    "        \n",
    "        return self.Transformed_Data.append(pd.DataFrame(data=Ticket_list,columns=['Ticket']))\n",
    "    \n",
    "    def _transform_Fare(self,X):\n",
    "        Fare_scaled=X.copy()\n",
    "        Fare_scaled.fillna(Fare_scaled.mean(),inplace=True)\n",
    "        Fare_scaled=(Fare_scaled-Fare_scaled.mean())/Fare_scaled.std()\n",
    "        return self.Transformed_Data.append(Fare_scaled)\n",
    "    \n",
    "    def _transform_Cabin(self,X):\n",
    "        list_Cabin=[i for i in map(lambda x: x[0] if type(x)==str else 'U',X)]\n",
    "        #Converted to deck now \n",
    "        #Now converting to integers\n",
    "        count=0\n",
    "        labels={}\n",
    "        for i in range(len(list_Cabin)):\n",
    "            if list_Cabin[i] not in labels:\n",
    "                labels[list_Cabin[i]]=count\n",
    "                count+=1\n",
    "            list_Cabin[i]=labels[list_Cabin[i]]\n",
    "        #labels encoded to integers\n",
    "        return self.Transformed_Data.append(pd.DataFrame(data=list_Cabin,columns=['Cabin']))\n",
    "    \n",
    "    def _transform_Embarked(self,X):\n",
    "        labels={}\n",
    "        count=0\n",
    "        list_Embarked=[]\n",
    "        for i in range(len(X)):\n",
    "            if i not in labels:\n",
    "                labels[X[i]]=count\n",
    "                count+=1\n",
    "            list_Embarked.append(labels[X[i]])\n",
    "        return self.Transformed_Data.append(pd.DataFrame(data=list_Embarked,columns=[\"Embarked\"]))\n",
    "    \n",
    "    def transform(self,X,y=None):\n",
    "        self.Transformed_Data=[]\n",
    "        for i in self.attributes:\n",
    "            if self.attributes[i]:\n",
    "                self.func[i](X[i])\n",
    "        \n",
    "        return pd.concat(self.Transformed_Data,axis=1)"
   ]
  },
  {
   "cell_type": "code",
   "execution_count": 108,
   "metadata": {},
   "outputs": [],
   "source": [
    "X=dataset.drop(['Survived'],axis=1)"
   ]
  },
  {
   "cell_type": "code",
   "execution_count": 111,
   "metadata": {},
   "outputs": [
    {
     "data": {
      "text/plain": [
       "Index(['PassengerId', 'Survived', 'Pclass', 'Name', 'Sex', 'Age', 'SibSp',\n",
       "       'Parch', 'Ticket', 'Fare', 'Cabin', 'Embarked'],\n",
       "      dtype='object')"
      ]
     },
     "execution_count": 111,
     "metadata": {},
     "output_type": "execute_result"
    }
   ],
   "source": [
    "dataset.columns"
   ]
  },
  {
   "cell_type": "code",
   "execution_count": 162,
   "metadata": {},
   "outputs": [
    {
     "data": {
      "text/html": [
       "<div>\n",
       "<style>\n",
       "    .dataframe thead tr:only-child th {\n",
       "        text-align: right;\n",
       "    }\n",
       "\n",
       "    .dataframe thead th {\n",
       "        text-align: left;\n",
       "    }\n",
       "\n",
       "    .dataframe tbody tr th {\n",
       "        vertical-align: top;\n",
       "    }\n",
       "</style>\n",
       "<table border=\"1\" class=\"dataframe\">\n",
       "  <thead>\n",
       "    <tr style=\"text-align: right;\">\n",
       "      <th></th>\n",
       "      <th>PassengerId</th>\n",
       "      <th>Survived</th>\n",
       "      <th>Pclass</th>\n",
       "      <th>Age</th>\n",
       "      <th>SibSp</th>\n",
       "      <th>Parch</th>\n",
       "      <th>Fare</th>\n",
       "    </tr>\n",
       "  </thead>\n",
       "  <tbody>\n",
       "    <tr>\n",
       "      <th>count</th>\n",
       "      <td>891.000000</td>\n",
       "      <td>891.000000</td>\n",
       "      <td>891.000000</td>\n",
       "      <td>714.000000</td>\n",
       "      <td>891.000000</td>\n",
       "      <td>891.000000</td>\n",
       "      <td>891.000000</td>\n",
       "    </tr>\n",
       "    <tr>\n",
       "      <th>mean</th>\n",
       "      <td>446.000000</td>\n",
       "      <td>0.383838</td>\n",
       "      <td>2.308642</td>\n",
       "      <td>29.699118</td>\n",
       "      <td>0.523008</td>\n",
       "      <td>0.381594</td>\n",
       "      <td>32.204208</td>\n",
       "    </tr>\n",
       "    <tr>\n",
       "      <th>std</th>\n",
       "      <td>257.353842</td>\n",
       "      <td>0.486592</td>\n",
       "      <td>0.836071</td>\n",
       "      <td>14.526497</td>\n",
       "      <td>1.102743</td>\n",
       "      <td>0.806057</td>\n",
       "      <td>49.693429</td>\n",
       "    </tr>\n",
       "    <tr>\n",
       "      <th>min</th>\n",
       "      <td>1.000000</td>\n",
       "      <td>0.000000</td>\n",
       "      <td>1.000000</td>\n",
       "      <td>0.420000</td>\n",
       "      <td>0.000000</td>\n",
       "      <td>0.000000</td>\n",
       "      <td>0.000000</td>\n",
       "    </tr>\n",
       "    <tr>\n",
       "      <th>25%</th>\n",
       "      <td>223.500000</td>\n",
       "      <td>0.000000</td>\n",
       "      <td>2.000000</td>\n",
       "      <td>20.125000</td>\n",
       "      <td>0.000000</td>\n",
       "      <td>0.000000</td>\n",
       "      <td>7.910400</td>\n",
       "    </tr>\n",
       "    <tr>\n",
       "      <th>50%</th>\n",
       "      <td>446.000000</td>\n",
       "      <td>0.000000</td>\n",
       "      <td>3.000000</td>\n",
       "      <td>28.000000</td>\n",
       "      <td>0.000000</td>\n",
       "      <td>0.000000</td>\n",
       "      <td>14.454200</td>\n",
       "    </tr>\n",
       "    <tr>\n",
       "      <th>75%</th>\n",
       "      <td>668.500000</td>\n",
       "      <td>1.000000</td>\n",
       "      <td>3.000000</td>\n",
       "      <td>38.000000</td>\n",
       "      <td>1.000000</td>\n",
       "      <td>0.000000</td>\n",
       "      <td>31.000000</td>\n",
       "    </tr>\n",
       "    <tr>\n",
       "      <th>max</th>\n",
       "      <td>891.000000</td>\n",
       "      <td>1.000000</td>\n",
       "      <td>3.000000</td>\n",
       "      <td>80.000000</td>\n",
       "      <td>8.000000</td>\n",
       "      <td>6.000000</td>\n",
       "      <td>512.329200</td>\n",
       "    </tr>\n",
       "  </tbody>\n",
       "</table>\n",
       "</div>"
      ],
      "text/plain": [
       "       PassengerId    Survived      Pclass         Age       SibSp  \\\n",
       "count   891.000000  891.000000  891.000000  714.000000  891.000000   \n",
       "mean    446.000000    0.383838    2.308642   29.699118    0.523008   \n",
       "std     257.353842    0.486592    0.836071   14.526497    1.102743   \n",
       "min       1.000000    0.000000    1.000000    0.420000    0.000000   \n",
       "25%     223.500000    0.000000    2.000000   20.125000    0.000000   \n",
       "50%     446.000000    0.000000    3.000000   28.000000    0.000000   \n",
       "75%     668.500000    1.000000    3.000000   38.000000    1.000000   \n",
       "max     891.000000    1.000000    3.000000   80.000000    8.000000   \n",
       "\n",
       "            Parch        Fare  \n",
       "count  891.000000  891.000000  \n",
       "mean     0.381594   32.204208  \n",
       "std      0.806057   49.693429  \n",
       "min      0.000000    0.000000  \n",
       "25%      0.000000    7.910400  \n",
       "50%      0.000000   14.454200  \n",
       "75%      0.000000   31.000000  \n",
       "max      6.000000  512.329200  "
      ]
     },
     "execution_count": 162,
     "metadata": {},
     "output_type": "execute_result"
    }
   ],
   "source": [
    "dataset.describe()"
   ]
  },
  {
   "cell_type": "code",
   "execution_count": 181,
   "metadata": {},
   "outputs": [
    {
     "name": "stdout",
     "output_type": "stream",
     "text": [
      "--------------1601----------------\n",
      "Bing, Mr. Lee\n",
      "Ling, Mr. Lee\n",
      "Lang, Mr. Fang\n",
      "Foo, Mr. Choong\n",
      "Lam, Mr. Ali\n",
      "Lam, Mr. Len\n",
      "Chip, Mr. Chang\n",
      "--------------CA. 2343----------------\n",
      "Sage, Master. Thomas Henry\n",
      "Sage, Miss. Constance Gladys\n",
      "Sage, Mr. Frederick\n",
      "Sage, Mr. George John Jr\n",
      "Sage, Miss. Stella Anna\n",
      "Sage, Mr. Douglas Bullen\n",
      "Sage, Miss. Dorothy Edith \"Dolly\"\n",
      "--------------347082----------------\n",
      "Andersson, Mr. Anders Johan\n",
      "Andersson, Miss. Ellis Anna Maria\n",
      "Andersson, Miss. Ingeborg Constanzia\n",
      "Andersson, Miss. Sigrid Elisabeth\n",
      "Andersson, Mrs. Anders Johan (Alfrida Konstantia Brogren)\n",
      "Andersson, Miss. Ebba Iris Alfrida\n",
      "Andersson, Master. Sigvard Harald Elias\n",
      "--------------3101295----------------\n",
      "Panula, Master. Juha Niilo\n",
      "Panula, Master. Eino Viljami\n",
      "Panula, Mr. Ernesti Arvid\n",
      "Panula, Mrs. Juha (Maria Emilia Ojala)\n",
      "Panula, Mr. Jaako Arnold\n",
      "Panula, Master. Urho Abraham\n"
     ]
    }
   ],
   "source": [
    "print(\"--------------1601----------------\")\n",
    "for i in range(len(dataset[\"Ticket\"])):\n",
    "    if dataset[\"Ticket\"].iloc[i]=='1601':\n",
    "        print(dataset[\"Name\"].iloc[i])\n",
    "print(\"--------------CA. 2343----------------\")\n",
    "for i in range(len(dataset[\"Ticket\"])):\n",
    "    if dataset[\"Ticket\"].iloc[i]=='CA. 2343':\n",
    "        print(dataset[\"Name\"].iloc[i])        \n",
    "print(\"--------------347082----------------\")\n",
    "for i in range(len(dataset[\"Ticket\"])):\n",
    "    if dataset[\"Ticket\"].iloc[i]=='347082':\n",
    "        print(dataset[\"Name\"].iloc[i])  \n",
    "print(\"--------------3101295----------------\")\n",
    "for i in range(len(dataset[\"Ticket\"])):\n",
    "    if dataset[\"Ticket\"].iloc[i]=='3101295':\n",
    "        print(dataset[\"Name\"].iloc[i]) "
   ]
  },
  {
   "cell_type": "code",
   "execution_count": 195,
   "metadata": {},
   "outputs": [],
   "source": [
    "#As we can see people with same ticket also have same names\n",
    "#Now let's do check if people with same first names also have same ticket number or not\n",
    "#As we have already extracted names in Name_extract, thus,\n",
    "Name_extract_d=pd.Series(data=Name_extract)"
   ]
  },
  {
   "cell_type": "code",
   "execution_count": 225,
   "metadata": {},
   "outputs": [
    {
     "data": {
      "text/plain": [
       "Andersson       9\n",
       "Sage            7\n",
       "Goodwin         6\n",
       "Panula          6\n",
       "Skoog           6\n",
       "Johnson         6\n",
       "Carter          6\n",
       "Rice            5\n",
       "Harris          4\n",
       "Smith           4\n",
       "Kelly           4\n",
       "Brown           4\n",
       "Baclini         4\n",
       "Palsson         4\n",
       "Hart            4\n",
       "Harper          4\n",
       "Ford            4\n",
       "Williams        4\n",
       "Fortune         4\n",
       "Gustafsson      4\n",
       "Lefebre         4\n",
       "Asplund         4\n",
       "Johansson       3\n",
       "O'Brien         3\n",
       "Allison         3\n",
       "Meyer           3\n",
       "West            3\n",
       "Moran           3\n",
       "Laroche         3\n",
       "Goldsmith       3\n",
       "               ..\n",
       "Watson          1\n",
       "Leinonen        1\n",
       "Mack            1\n",
       "Adahl           1\n",
       "Foo             1\n",
       "Calderhead      1\n",
       "Toomey          1\n",
       "Perreault       1\n",
       "Fry             1\n",
       "Burns           1\n",
       "Byles           1\n",
       "Crease          1\n",
       "Weisz           1\n",
       "Davis           1\n",
       "Jalsevac        1\n",
       "Kvillner        1\n",
       "Woolner         1\n",
       "Touma           1\n",
       "Roebling        1\n",
       "Kirkland        1\n",
       "Ayoub           1\n",
       "Pettersson      1\n",
       "Coelho          1\n",
       "Scanlan         1\n",
       "Augustsson      1\n",
       "Wright          1\n",
       "Appleton        1\n",
       "Vanden Steen    1\n",
       "Thorne          1\n",
       "Karlsson        1\n",
       "Length: 667, dtype: int64"
      ]
     },
     "execution_count": 225,
     "metadata": {},
     "output_type": "execute_result"
    }
   ],
   "source": [
    "Name_extract_d.value_counts()\n",
    "#As we can see there are 9 Andersson but only 7 of them have same ticket thus we conclude that\n",
    "#ticket number is also important and thus let's use a labledecoder"
   ]
  },
  {
   "cell_type": "code",
   "execution_count": 226,
   "metadata": {
    "collapsed": true
   },
   "outputs": [],
   "source": [
    "#At last Alas!!!"
   ]
  },
  {
   "cell_type": "code",
   "execution_count": 227,
   "metadata": {
    "collapsed": true
   },
   "outputs": [],
   "source": [
    "#let's create our regressor Forest one\n",
    "for_reg=RandomForestClassifier()"
   ]
  },
  {
   "cell_type": "code",
   "execution_count": 229,
   "metadata": {
    "collapsed": true
   },
   "outputs": [],
   "source": [
    "a={'a':0,'b':1}"
   ]
  },
  {
   "cell_type": "code",
   "execution_count": 246,
   "metadata": {},
   "outputs": [
    {
     "ename": "SyntaxError",
     "evalue": "invalid syntax (<ipython-input-246-138a39513c21>, line 14)",
     "output_type": "error",
     "traceback": [
      "\u001b[0;36m  File \u001b[0;32m\"<ipython-input-246-138a39513c21>\"\u001b[0;36m, line \u001b[0;32m14\u001b[0m\n\u001b[0;31m    eval(\"self.\"func\"(\"b\")\")\u001b[0m\n\u001b[0m                   ^\u001b[0m\n\u001b[0;31mSyntaxError\u001b[0m\u001b[0;31m:\u001b[0m invalid syntax\n"
     ]
    }
   ],
   "source": [
    "#testing the function call whose name is stored in string\n",
    "class testfunc:\n",
    "    \n",
    "    def __init__(self):\n",
    "        pass\n",
    "    \n",
    "    def A_x(self,a):\n",
    "        print(a)\n",
    "        \n",
    "    def B(self):\n",
    "        x='x'\n",
    "        func='A_'+x\n",
    "        b='It works It works!!!'\n",
    "        eval(\"self.\"func\"(\"b\")\")"
   ]
  },
  {
   "cell_type": "code",
   "execution_count": 261,
   "metadata": {
    "collapsed": true
   },
   "outputs": [],
   "source": [
    "#Now let's create an object of transform\n",
    "prepare_data=Transform(select_dict={'PassengerId': False},default=True)"
   ]
  },
  {
   "cell_type": "code",
   "execution_count": 288,
   "metadata": {
    "collapsed": true
   },
   "outputs": [],
   "source": [
    "predict_pipeline=Pipeline([\n",
    "    ('Transformer',Transform(select_dict={'PassengerId': False},default=True)),\n",
    "    ('Estimator',for_reg)\n",
    "])"
   ]
  },
  {
   "cell_type": "code",
   "execution_count": 289,
   "metadata": {},
   "outputs": [
    {
     "data": {
      "text/plain": [
       "Pipeline(steps=[('Transformer', Transform(default=None, list_of_attributes=None, select_dict=None)), ('Estimator', RandomForestClassifier(bootstrap=True, class_weight=None, criterion='gini',\n",
       "            max_depth=None, max_features='auto', max_leaf_nodes=None,\n",
       "            min_impurity_split=1e-07, min_samples_leaf=1,\n",
       "            min_samples_split=2, min_weight_fraction_leaf=0.0,\n",
       "            n_estimators=10, n_jobs=1, oob_score=False, random_state=None,\n",
       "            verbose=0, warm_start=False))])"
      ]
     },
     "execution_count": 289,
     "metadata": {},
     "output_type": "execute_result"
    }
   ],
   "source": [
    "predict_pipeline.fit(X=X_train,y=y_train)"
   ]
  },
  {
   "cell_type": "code",
   "execution_count": 290,
   "metadata": {
    "collapsed": true
   },
   "outputs": [],
   "source": [
    "y_train_pred=predict_pipeline.predict(X_train)"
   ]
  },
  {
   "cell_type": "code",
   "execution_count": 291,
   "metadata": {},
   "outputs": [
    {
     "name": "stdout",
     "output_type": "stream",
     "text": [
      "1.57126823793\n"
     ]
    }
   ],
   "source": [
    "print(np.abs(y_train-y_train_pred).sum()/891*100)"
   ]
  },
  {
   "cell_type": "code",
   "execution_count": 292,
   "metadata": {
    "collapsed": true
   },
   "outputs": [],
   "source": [
    "#now as we see the accuracy is good let's test it on test data"
   ]
  },
  {
   "cell_type": "code",
   "execution_count": 293,
   "metadata": {
    "collapsed": true
   },
   "outputs": [],
   "source": [
    "dataset_test=pd.read_csv('./test.csv')"
   ]
  },
  {
   "cell_type": "code",
   "execution_count": 294,
   "metadata": {},
   "outputs": [
    {
     "name": "stdout",
     "output_type": "stream",
     "text": [
      "<class 'pandas.core.frame.DataFrame'>\n",
      "RangeIndex: 418 entries, 0 to 417\n",
      "Data columns (total 11 columns):\n",
      "PassengerId    418 non-null int64\n",
      "Pclass         418 non-null int64\n",
      "Name           418 non-null object\n",
      "Sex            418 non-null object\n",
      "Age            332 non-null float64\n",
      "SibSp          418 non-null int64\n",
      "Parch          418 non-null int64\n",
      "Ticket         418 non-null object\n",
      "Fare           417 non-null float64\n",
      "Cabin          91 non-null object\n",
      "Embarked       418 non-null object\n",
      "dtypes: float64(2), int64(4), object(5)\n",
      "memory usage: 36.0+ KB\n"
     ]
    }
   ],
   "source": [
    "dataset_test.info()"
   ]
  },
  {
   "cell_type": "code",
   "execution_count": 296,
   "metadata": {},
   "outputs": [],
   "source": [
    "y_test_pred=predict_pipeline.predict(dataset_test)"
   ]
  },
  {
   "cell_type": "code",
   "execution_count": 297,
   "metadata": {},
   "outputs": [
    {
     "name": "stdout",
     "output_type": "stream",
     "text": [
      "[0 1 0 0 1 0 1 0 1 0 0 0 1 0 1 1 1 0 1 1 0 0 1 0 1 0 1 0 1 0 0 0 0 0 0 0 1\n",
      " 1 0 0 0 0 0 1 1 1 1 0 1 1 0 0 1 1 0 0 0 0 0 1 0 0 0 1 0 1 1 0 0 1 1 0 1 0\n",
      " 1 0 0 1 0 1 1 0 0 0 0 0 1 1 1 1 0 0 1 0 0 0 1 0 1 0 1 0 0 0 0 0 0 0 0 0 0\n",
      " 1 1 1 1 0 0 1 0 1 0 0 1 0 0 0 0 0 0 0 0 0 0 0 0 0 0 0 1 0 0 1 0 0 0 0 0 0\n",
      " 0 0 1 0 0 0 0 0 1 1 0 1 1 1 0 0 0 1 0 0 1 0 0 0 0 0 0 1 1 0 1 1 0 0 1 0 1\n",
      " 0 1 0 0 0 0 1 0 0 1 0 1 1 0 1 0 1 0 1 0 1 1 0 1 0 0 0 0 1 0 1 0 0 1 0 1 0\n",
      " 1 0 1 0 0 0 0 0 0 1 0 0 0 0 0 0 1 1 1 1 0 0 0 0 1 0 1 0 1 0 0 0 0 0 0 0 1\n",
      " 0 0 0 1 1 0 0 0 0 1 0 0 0 1 0 0 1 0 0 0 0 0 1 0 1 1 0 0 0 0 0 0 0 0 0 0 0\n",
      " 1 0 0 0 0 0 0 0 1 1 0 1 0 0 0 0 0 1 1 1 0 0 0 0 0 0 0 0 1 0 1 0 0 0 1 0 0\n",
      " 0 0 0 0 0 0 0 0 0 0 1 0 1 0 1 0 1 1 0 0 0 1 0 1 0 0 0 0 1 1 0 1 0 0 0 1 0\n",
      " 0 1 0 0 1 1 0 0 0 0 0 0 0 0 0 1 0 0 0 1 1 1 0 0 0 1 0 1 0 0 1 0 1 0 1 0 0\n",
      " 0 0 1 0 1 1 0 1 0 0 0]\n"
     ]
    }
   ],
   "source": [
    "print(y_test_pred)"
   ]
  },
  {
   "cell_type": "code",
   "execution_count": 301,
   "metadata": {},
   "outputs": [],
   "source": [
    "y_pred_d=pd.DataFrame(y_test_pred,columns=['Survived'])"
   ]
  },
  {
   "cell_type": "code",
   "execution_count": 302,
   "metadata": {
    "collapsed": true
   },
   "outputs": [],
   "source": [
    "result=pd.concat([dataset_test['PassengerId'],y_pred_d],axis=1)"
   ]
  },
  {
   "cell_type": "code",
   "execution_count": 303,
   "metadata": {},
   "outputs": [
    {
     "name": "stdout",
     "output_type": "stream",
     "text": [
      "     PassengerId  Survived\n",
      "0            892         0\n",
      "1            893         1\n",
      "2            894         0\n",
      "3            895         0\n",
      "4            896         1\n",
      "5            897         0\n",
      "6            898         1\n",
      "7            899         0\n",
      "8            900         1\n",
      "9            901         0\n",
      "10           902         0\n",
      "11           903         0\n",
      "12           904         1\n",
      "13           905         0\n",
      "14           906         1\n",
      "15           907         1\n",
      "16           908         1\n",
      "17           909         0\n",
      "18           910         1\n",
      "19           911         1\n",
      "20           912         0\n",
      "21           913         0\n",
      "22           914         1\n",
      "23           915         0\n",
      "24           916         1\n",
      "25           917         0\n",
      "26           918         1\n",
      "27           919         0\n",
      "28           920         1\n",
      "29           921         0\n",
      "..           ...       ...\n",
      "388         1280         0\n",
      "389         1281         1\n",
      "390         1282         1\n",
      "391         1283         1\n",
      "392         1284         0\n",
      "393         1285         0\n",
      "394         1286         0\n",
      "395         1287         1\n",
      "396         1288         0\n",
      "397         1289         1\n",
      "398         1290         0\n",
      "399         1291         0\n",
      "400         1292         1\n",
      "401         1293         0\n",
      "402         1294         1\n",
      "403         1295         0\n",
      "404         1296         1\n",
      "405         1297         0\n",
      "406         1298         0\n",
      "407         1299         0\n",
      "408         1300         0\n",
      "409         1301         1\n",
      "410         1302         0\n",
      "411         1303         1\n",
      "412         1304         1\n",
      "413         1305         0\n",
      "414         1306         1\n",
      "415         1307         0\n",
      "416         1308         0\n",
      "417         1309         0\n",
      "\n",
      "[418 rows x 2 columns]\n"
     ]
    }
   ],
   "source": [
    "print(result)"
   ]
  },
  {
   "cell_type": "code",
   "execution_count": 306,
   "metadata": {
    "collapsed": true
   },
   "outputs": [],
   "source": [
    "result.to_csv('./Results.csv',index=False)"
   ]
  },
  {
   "cell_type": "code",
   "execution_count": 308,
   "metadata": {},
   "outputs": [
    {
     "data": {
      "text/plain": [
       "['./Titanic.pkl']"
      ]
     },
     "execution_count": 308,
     "metadata": {},
     "output_type": "execute_result"
    }
   ],
   "source": [
    "joblib.dump(predict_pipeline,'./Titanic.pkl')"
   ]
  },
  {
   "cell_type": "code",
   "execution_count": null,
   "metadata": {
    "collapsed": true
   },
   "outputs": [],
   "source": []
  }
 ],
 "metadata": {
  "kernelspec": {
   "display_name": "Python 3",
   "language": "python",
   "name": "python3"
  },
  "language_info": {
   "codemirror_mode": {
    "name": "ipython",
    "version": 3
   },
   "file_extension": ".py",
   "mimetype": "text/x-python",
   "name": "python",
   "nbconvert_exporter": "python",
   "pygments_lexer": "ipython3",
   "version": "3.6.1"
  }
 },
 "nbformat": 4,
 "nbformat_minor": 2
}
